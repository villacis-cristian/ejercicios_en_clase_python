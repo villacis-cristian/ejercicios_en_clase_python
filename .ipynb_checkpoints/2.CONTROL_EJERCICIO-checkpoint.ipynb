{
 "cells": [
  {
   "cell_type": "markdown",
   "id": "836b9387-0653-4532-bab7-6333a4f39ce5",
   "metadata": {},
   "source": [
    "#### CRISTIAN ANDRES VILLACIS MENDOZA                        DESARROLLO DE SOFTWARE\n"
   ]
  },
  {
   "cell_type": "markdown",
   "id": "2973715b-be5c-4b11-8fa4-512536f63cd8",
   "metadata": {},
   "source": [
    "## link de GITHUB:  https://github.com/villacis-cristian/ejercicios_en_clase_1.git\n"
   ]
  },
  {
   "cell_type": "markdown",
   "id": "1b5aaafc-08bb-40ae-99dc-487745780bdb",
   "metadata": {},
   "source": [
    "# EJERCICIOS EN CLASE"
   ]
  },
  {
   "cell_type": "markdown",
   "id": "cbd7ba90-b0d9-441e-a9bc-b040ce4da05c",
   "metadata": {},
   "source": [
    "1. Escribe un programa que muestre por pantalla la concatenación de un número y una cadena de caracteres. Para obtener esta concatenación puedes usar uno de los operadores explicados en este tema. Ejemplo: dado el número 3 y la cadena 'abc', el programa mostrará la cadena '3abc'.\n",
    "\n",
    "2. Escribe un programa que muestre por pantalla un valor booleano que indique si un número entero *N* está contenido en un intervalo semiabierto *[a,b)*, el cual establece una cota inferior *a* (inclusive) y una cota superior *b* (exclusive) para *N*.\n",
    "\n",
    "3. Escribe un programa que, dado dos strings *S1* y *S2* y dos números enteros *N1* y *N2*, determine si el substring que en *S1* se extiende desde la posición *N1* a la *N2* (ambos inclusive) está contenido en *S2*.\n",
    "\n",
    "4. Dada una *lista* con elementos duplicados, escribir un programa que muestre una nueva *lista* con el mismo contenido que la primera pero sin elementos duplicados.\n",
    "\n",
    "5. Escribe un programa que, dada una *lista* de strings *L*, un string *s* perteneciente a *L* y un string *t*, reemplace *s* por *t* en *L*. El programa debe mostrar la lista resultante por pantalla.\n",
    "\n",
    "6. Escribe un programa que defina una *tupla* con elementos numéricos, reemplace el valor del último por un valor diferente y muestre la *tupla* por pantalla. Recuerda que las *tuplas* son inmutables. Tendrás que usar objetos intermedios.\n",
    "\n",
    "7. Dada la lista [1,2,3,4,5,6,7,8] escribe un programa que, a partir de esta lista, obtenga la lista [8,6,4,2] y la muestre por pantalla.\n",
    "\n",
    "8. Escribe un programa que, dada una tupla y un índice válido *i*, elimine el elemento de la tupla que se encuentra en la posición *i*. Para este ejercicio sólo puedes usar objetos de tipo tupla. No puedes convetir la *tupla* a una *lista*, por ejemplo.\n",
    "\n",
    "9. Escribe un programa que obtenga la mediana de una *lista* de números. Recuerda que la mediana *M* de una lista de números *L* es el número que cumple la siguiente propiedad: la mitad de los números de *L* son superiores a *M* y la otra mitad son inferiores. Cuando el número de elementos de *L* es par, se puede considerar que hay dos medianas. No obstante, en este ejercicio consideraremos que únicamente existe una mediana."
   ]
  },
  {
   "cell_type": "markdown",
   "id": "5cdc72df-54bc-426f-a241-03fa5fd6835d",
   "metadata": {},
   "source": [
    "#### EJERCICIO 01\n"
   ]
  },
  {
   "cell_type": "code",
   "execution_count": 3,
   "id": "3cb1546f-67d8-42f8-89b4-47b27aa35dee",
   "metadata": {},
   "outputs": [
    {
     "name": "stdout",
     "output_type": "stream",
     "text": [
      "3abcdefhi\n"
     ]
    }
   ],
   "source": [
    "numero = 3 \n",
    "cadena = 'abcdefhi'\n",
    "\n",
    "resultado = str(numero) + cadena\n",
    "print(resultado)\n"
   ]
  },
  {
   "cell_type": "markdown",
   "id": "793c8f93-6126-4187-931b-0d8d2eacabcd",
   "metadata": {},
   "source": [
    "#### EJERCICIO 02\n"
   ]
  },
  {
   "cell_type": "code",
   "execution_count": 5,
   "id": "28e5ef49-43aa-4fdf-953c-9c6bd4cbb01f",
   "metadata": {},
   "outputs": [
    {
     "name": "stdin",
     "output_type": "stream",
     "text": [
      "Ingrese el número N:  500\n",
      "Ingrese el límite inferior a:  1000\n",
      "Ingrese el límite superior b:  2000\n"
     ]
    },
    {
     "name": "stdout",
     "output_type": "stream",
     "text": [
      "False\n"
     ]
    }
   ],
   "source": [
    "# Solicita al usuario ingresar el número a evaluar y lo convierte a entero\n",
    "N = int(input(\"Ingrese el número N: \"))  \n",
    "\n",
    "# Solicita el límite inferior del intervalo y lo convierte a entero\n",
    "a = int(input(\"Ingrese el límite inferior a: \"))  \n",
    "\n",
    "# Solicita el límite superior del intervalo y lo convierte a entero\n",
    "b = int(input(\"Ingrese el límite superior b: \"))  \n",
    "\n",
    "# Evalúa si N está en el intervalo [a, b) (a incluido, b excluido)\n",
    "esta_en_intervalo = a <= N < b  \n",
    "\n",
    "# Imprime True si está en el intervalo, False si no\n",
    "print(esta_en_intervalo)  "
   ]
  },
  {
   "cell_type": "markdown",
   "id": "d41b8b07-ec2c-4e67-9f23-7598dc46a210",
   "metadata": {},
   "source": [
    "#### EJERCICIO 03\n"
   ]
  },
  {
   "cell_type": "code",
   "execution_count": 8,
   "id": "d319feb2-b693-4b62-b398-c43aff182cdd",
   "metadata": {},
   "outputs": [
    {
     "name": "stdin",
     "output_type": "stream",
     "text": [
      "Ingrese el string S1:  HOLA\n",
      "Ingrese el string S2:  MUNDO\n",
      "Ingrese la posición inicial N1:  50\n",
      "Ingrese la posición final N2:  100\n"
     ]
    },
    {
     "name": "stdout",
     "output_type": "stream",
     "text": [
      "True\n"
     ]
    }
   ],
   "source": [
    "\n",
    "\n",
    "# Solicita el primer string al usuario\n",
    "S1 = input(\"Ingrese el string S1: \")  \n",
    "\n",
    "# Solicita el segundo string al usuario\n",
    "S2 = input(\"Ingrese el string S2: \")  \n",
    "\n",
    "# Solicita la posición inicial para el substring y la convierte a entero\n",
    "N1 = int(input(\"Ingrese la posición inicial N1: \"))  \n",
    "\n",
    "# Solicita la posición final para el substring y la convierte a entero\n",
    "N2 = int(input(\"Ingrese la posición final N2: \"))  \n",
    "\n",
    "# Extrae el substring de S1 desde N1 hasta N2 (ambos incluidos)\n",
    "substring = S1[N1:N2+1]  \n",
    "\n",
    "# Verifica si el substring está contenido en S2\n",
    "esta_contenido = substring in S2  \n",
    "\n",
    "# Imprime el resultado de la verificación\n",
    "print(esta_contenido)  "
   ]
  },
  {
   "cell_type": "markdown",
   "id": "ecb0a406-73d1-4c36-a765-30b543b479c8",
   "metadata": {},
   "source": [
    "#### EJERCICIO 04\n"
   ]
  },
  {
   "cell_type": "code",
   "execution_count": 9,
   "id": "7cb90575-a7e0-4475-a6a0-e7a622bd1ecc",
   "metadata": {},
   "outputs": [
    {
     "name": "stdout",
     "output_type": "stream",
     "text": [
      "[1, 2, 3, 4, 5, 6]\n"
     ]
    }
   ],
   "source": [
    "# Lista original con elementos duplicados\n",
    "lista_original = [1, 2, 2, 3, 4, 4, 5, 6, 6, 6]  \n",
    "\n",
    "# Convierte la lista a conjunto (elimina duplicados) y luego de vuelta a lista\n",
    "lista_sin_duplicados = list(set(lista_original))  #set retira los elementos repetidos\n",
    "\n",
    "# Imprime la lista sin elementos duplicados\n",
    "print(lista_sin_duplicados)  "
   ]
  },
  {
   "cell_type": "markdown",
   "id": "d107f39c-0e23-4dd0-8740-491f76eda0bd",
   "metadata": {},
   "source": [
    "#### EJERCICIO 05\n"
   ]
  },
  {
   "cell_type": "code",
   "execution_count": 10,
   "id": "adbee067-808b-47f1-b34c-0da6adb32171",
   "metadata": {},
   "outputs": [
    {
     "name": "stdout",
     "output_type": "stream",
     "text": [
      "['hola', 'mundo', 'coding', 'programación']\n"
     ]
    }
   ],
   "source": [
    "# Lista original de strings\n",
    "L = [\"hola\", \"mundo\", \"python\", \"programación\"]  \n",
    "\n",
    "# Elemento a buscar y reemplazar\n",
    "s = \"python\"  \n",
    "\n",
    "# Nuevo valor que reemplazará al elemento encontrado\n",
    "t = \"coding\"  \n",
    "\n",
    "# Busca el índice donde se encuentra el elemento 's' en la lista\n",
    "indice = L.index(s)  \n",
    "\n",
    "# Reemplaza el elemento en la posición encontrada con el nuevo valor 't'\n",
    "L[indice] = t  \n",
    "\n",
    "# Imprime la lista modificada\n",
    "print(L)  "
   ]
  },
  {
   "cell_type": "markdown",
   "id": "83d7bbdb-0715-4454-983a-de27944f7ad0",
   "metadata": {},
   "source": [
    "#### EJERCICIO 06\n"
   ]
  },
  {
   "cell_type": "code",
   "execution_count": 11,
   "id": "1b73d612-3c81-4a9e-b3c7-1183e289c1a0",
   "metadata": {},
   "outputs": [
    {
     "name": "stdout",
     "output_type": "stream",
     "text": [
      "(1, 2, 3, 4, 10)\n"
     ]
    }
   ],
   "source": [
    "# Tupla original (inmutable)\n",
    "tupla_original = (1, 2, 3, 4, 5)  \n",
    "\n",
    "# Nuevo valor para el último elemento\n",
    "nuevo_valor = 10  \n",
    "\n",
    "# Convierte la tupla a lista para poder modificarla\n",
    "lista_temporal = list(tupla_original)  \n",
    "\n",
    "# Modifica el último elemento de la lista temporal\n",
    "lista_temporal[-1] = nuevo_valor  \n",
    "\n",
    "# Convierte la lista modificada de vuelta a tupla\n",
    "tupla_modificada = tuple(lista_temporal)  \n",
    "\n",
    "# Imprime la nueva tupla con el último elemento modificado\n",
    "print(tupla_modificada)  "
   ]
  },
  {
   "cell_type": "markdown",
   "id": "f2981638-8bb3-4d9e-aaf1-b906a245cf15",
   "metadata": {},
   "source": [
    "#### EJERCICIO 07\n"
   ]
  },
  {
   "cell_type": "code",
   "execution_count": 12,
   "id": "a680e771-9eec-42ee-8805-d0c4e84104cd",
   "metadata": {},
   "outputs": [
    {
     "name": "stdout",
     "output_type": "stream",
     "text": [
      "[8, 6, 4, 2]\n"
     ]
    }
   ],
   "source": [
    "# Lista original de números\n",
    "lista_original = [1, 2, 3, 4, 5, 6, 7, 8]  \n",
    "\n",
    "# Primero invierte la lista [::-1], luego toma cada segundo elemento [::2]\n",
    "lista_resultado = lista_original[::-1][::2]  \n",
    "\n",
    "# Imprime la lista resultante [8,6,4,2]\n",
    "print(lista_resultado)  "
   ]
  },
  {
   "cell_type": "markdown",
   "id": "35712e03-23df-49e5-9ad8-a230f7d1a391",
   "metadata": {},
   "source": [
    "#### EJERCICIO 08\n"
   ]
  },
  {
   "cell_type": "code",
   "execution_count": 13,
   "id": "338bedb7-bd08-4f1d-a614-11fbce6b2bfc",
   "metadata": {},
   "outputs": [
    {
     "name": "stdout",
     "output_type": "stream",
     "text": [
      "(10, 20, 40, 50)\n"
     ]
    }
   ],
   "source": [
    "# Tupla original de números\n",
    "tupla_original = (10, 20, 30, 40, 50)  \n",
    "\n",
    "# Índice del elemento a eliminar\n",
    "i = 2  \n",
    "\n",
    "# Crea nueva tupla concatenando:\n",
    "# - Todos los elementos antes del índice i\n",
    "# - Todos los elementos después del índice i\n",
    "tupla_modificada = tupla_original[:i] + tupla_original[i+1:]  \n",
    "\n",
    "# Imprime la tupla resultante sin el elemento en posición i\n",
    "print(tupla_modificada)  "
   ]
  },
  {
   "cell_type": "markdown",
   "id": "ef34bcbb-cd00-49a0-abb0-3a7faee6984f",
   "metadata": {},
   "source": [
    "#### EJERCICIO 09\n"
   ]
  },
  {
   "cell_type": "code",
   "execution_count": 14,
   "id": "4f03c27a-996d-4e9b-90cf-c0b1d22fb4d7",
   "metadata": {},
   "outputs": [
    {
     "name": "stdout",
     "output_type": "stream",
     "text": [
      "La mediana es: 4\n"
     ]
    }
   ],
   "source": [
    "# Función para calcular la mediana\n",
    "def calcular_mediana(lista):\n",
    "    # Ordena la lista de menor a mayor\n",
    "        lista_ordenada = sorted(lista)   #sorted ordena la lista sin modificarla\n",
    "    \n",
    "    # Obtiene la cantidad de elementos\n",
    "    n = len(lista_ordenada)  \n",
    "    \n",
    "    # Si la cantidad es impar\n",
    "    if n % 2 == 1:  \n",
    "        # La mediana es el elemento central\n",
    "        mediana = lista_ordenada[n//2]  \n",
    "    else:\n",
    "        # Si es par, toma el elemento anterior al centro\n",
    "        mediana = lista_ordenada[n//2 - 1]  \n",
    "    \n",
    "    # Devuelve el valor de la mediana\n",
    "    return mediana  \n",
    "\n",
    "# Lista de ejemplo\n",
    "numeros = [5, 2, 9, 1, 7, 6, 4, 3]  \n",
    "\n",
    "# Calcula la mediana llamando a la función\n",
    "mediana = calcular_mediana(numeros)  \n",
    "\n",
    "# Imprime el resultado formateado\n",
    "print(f\"La mediana es: {mediana}\")  "
   ]
  },
  {
   "cell_type": "code",
   "execution_count": 2,
   "id": "54289076-d6a0-493e-84a3-aa345113b26c",
   "metadata": {},
   "outputs": [
    {
     "name": "stdout",
     "output_type": "stream",
     "text": [
      "9\n"
     ]
    }
   ],
   "source": [
    "# Definición de una lista llamada 'L' con números desordenados\n",
    "L = [21, 9, 1, 5, 5, 10, 3, 15]\n",
    "\n",
    "# Ordena la lista 'L' de menor a mayor usando el método sort()\n",
    "# Después de esta línea, L será [1, 3, 5, 5, 9, 10, 15, 21]\n",
    "L.sort()\n",
    "\n",
    "# Calcula la mediana de la lista:\n",
    "# - len(L) devuelve la longitud de la lista (8 en este caso)\n",
    "# - len(L)//2 hace división entera por 2 (resultado: 4)\n",
    "# - L[4] accede al elemento en la posición 4 de la lista (recordando que en Python los índices comienzan en 0)\n",
    "# Para listas con número par de elementos, esta fórmula da el elemento justo después del centro\n",
    "mediana = L[len(L)//2]\n",
    "\n",
    "# Imprime el valor de la mediana calculada (que será 9 en este caso)\n",
    "print(mediana)"
   ]
  },
  {
   "cell_type": "code",
   "execution_count": null,
   "id": "886e7cdf-d691-450e-97db-02b6854b9992",
   "metadata": {},
   "outputs": [],
   "source": []
  }
 ],
 "metadata": {
  "kernelspec": {
   "display_name": "Python 3 (ipykernel)",
   "language": "python",
   "name": "python3"
  },
  "language_info": {
   "codemirror_mode": {
    "name": "ipython",
    "version": 3
   },
   "file_extension": ".py",
   "mimetype": "text/x-python",
   "name": "python",
   "nbconvert_exporter": "python",
   "pygments_lexer": "ipython3",
   "version": "3.13.5"
  }
 },
 "nbformat": 4,
 "nbformat_minor": 5
}
