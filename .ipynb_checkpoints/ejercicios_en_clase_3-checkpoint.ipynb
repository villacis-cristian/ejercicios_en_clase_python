{
 "cells": [
  {
   "cell_type": "markdown",
   "id": "836b9387-0653-4532-bab7-6333a4f39ce5",
   "metadata": {},
   "source": [
    "#### CRISTIAN ANDRES VILLACIS MENDOZA                        DESARROLLO DE SOFTWARE\n"
   ]
  },
  {
   "cell_type": "markdown",
   "id": "2973715b-be5c-4b11-8fa4-512536f63cd8",
   "metadata": {},
   "source": [
    "## link de GITHUB:  https://github.com/villacis-cristian/ejercicios_en_clase_1.git\n"
   ]
  },
  {
   "cell_type": "markdown",
   "id": "1b5aaafc-08bb-40ae-99dc-487745780bdb",
   "metadata": {},
   "source": [
    "# EJERCICIOS EN CLASE"
   ]
  },
  {
   "cell_type": "markdown",
   "id": "cbd7ba90-b0d9-441e-a9bc-b040ce4da05c",
   "metadata": {},
   "source": [
    "1. Escribe una función que reciba como entrada una *lista* con números y devuelva como resultado una *lista* con los cuadrados de los números contenidos en la lista de entrada.\n",
    "\n",
    "2. Escribe una función que reciba números como entrada y devuelva la suma de los mismos. La función debe ser capaz de recibir una cantidad indeterminada de números. La función no debe recibir directamente ningún objeto complejo (lista, conjunto, etc.).\n",
    "\n",
    "3. Escribe una función que reciba un string como entrada y devuelva el string al revés. Ejemplo: si el string de entrada es 'hola', el resultado será 'aloh'.\n",
    "\n",
    "4. Escribe una función *lambda* que, al igual que la función desarrollada en el ejercicio anterior, invierta el string recibido como parámetro. Ejemplo: si el string de entrada es 'hola', el resultado será 'aloh'.\n",
    "\n",
    "5. Escribe una función que compruebe si un número se encuentra dentro de un rango específico.\n",
    "\n",
    "6. Escribe una función que reciba un número entero positivo como parámetro y devuelva una lista que contenga los 5 primeros múltiplos de dicho número. Por ejemplo, si la función recibe el número 3, devolverá la lista [3, 6, 9, 12, 15]. Si la función recibe un parámetro incorrecto (por ejemplo, un múmero menor o igual a cero), mostrará un mensaje de error por pantalla y devolverá una lista vacía.\n",
    "\n",
    "7. Escribe una función que reciba una lista como parámetro y compruebe si la lista tiene duplicados. La función devolverá *True* si la lista tiene duplicados y *False* si no los tiene.\n",
    "\n",
    "8. Escribe una función *lambda* que, al igual que la función desarrollada en el ejercicio anterior, reciba una lista como parámetro y compruebe si la lista tiene duplicados. La función devolverá *True* si la lista tiene duplicados y *False* si no los tiene.\n",
    "\n",
    "9. Escribe una función que compruebe si un string dado es un palíndromo. Un palíndromo es una secuencia de caracteres que se lee igual de izquierda a derecha que de derecha a izquierda. Por ejemplo, la función devolverá *True* si recibe el string \"reconocer\" y *False* si recibe el string \"python\"."
   ]
  },
  {
   "cell_type": "markdown",
   "id": "5cdc72df-54bc-426f-a241-03fa5fd6835d",
   "metadata": {},
   "source": [
    "#### EJERCICIO 01\n"
   ]
  },
  {
   "cell_type": "code",
   "execution_count": 5,
   "id": "3cb1546f-67d8-42f8-89b4-47b27aa35dee",
   "metadata": {},
   "outputs": [
    {
     "name": "stdout",
     "output_type": "stream",
     "text": [
      "Ejercicio 1: [1, 4, 9, 16]\n"
     ]
    }
   ],
   "source": [
    "def cuadrados_lista(numeros):  # Define una función llamada 'cuadrados_lista' que recibe una lista 'numeros'\n",
    "    resultado = []  # Crea una lista vacía llamada 'resultado' para guardar los cuadrados\n",
    "    for num in numeros:  # Itera sobre cada número en la lista de entrada 'numeros'\n",
    "        resultado.append(num ** 2)  # Calcula el cuadrado del número y lo agrega a 'resultado'\n",
    "    return resultado  # Devuelve la lista con los cuadrados\n",
    "\n",
    "# Ejemplo de uso:\n",
    "lista_original = [1, 2, 3, 4]  # Define una lista de ejemplo\n",
    "resultado = cuadrados_lista(lista_original)  # Llama a la función con la lista\n",
    "print(\"Ejercicio 1:\", resultado)  # Imprime el resultado: [1, 4, 9, 16]"
   ]
  },
  {
   "cell_type": "markdown",
   "id": "793c8f93-6126-4187-931b-0d8d2eacabcd",
   "metadata": {},
   "source": [
    "#### EJERCICIO 02\n"
   ]
  },
  {
   "cell_type": "code",
   "execution_count": 6,
   "id": "28e5ef49-43aa-4fdf-953c-9c6bd4cbb01f",
   "metadata": {},
   "outputs": [
    {
     "name": "stdout",
     "output_type": "stream",
     "text": [
      "Ejercicio 2: 15\n"
     ]
    }
   ],
   "source": [
    "def suma_numeros(*args):  # Define una función que acepta cualquier cantidad de argumentos (*args)\n",
    "    total = 0  # Inicializa una variable 'total' en 0 para acumular la suma\n",
    "    for num in args:  # Itera sobre cada número en 'args' (los argumentos pasados)\n",
    "        total += num  # Suma cada número al total acumulado\n",
    "    return total  # Devuelve el resultado final de la suma\n",
    "\n",
    "# Ejemplo de uso:\n",
    "resultado = suma_numeros(1, 2, 3, 4, 5)  # Llama a la función con 5 números\n",
    "print(\"Ejercicio 2:\", resultado)  # Imprime la suma: 15"
   ]
  },
  {
   "cell_type": "markdown",
   "id": "d41b8b07-ec2c-4e67-9f23-7598dc46a210",
   "metadata": {},
   "source": [
    "#### EJERCICIO 03\n"
   ]
  },
  {
   "cell_type": "code",
   "execution_count": 7,
   "id": "d319feb2-b693-4b62-b398-c43aff182cdd",
   "metadata": {},
   "outputs": [
    {
     "name": "stdout",
     "output_type": "stream",
     "text": [
      "Ejercicio 3: aloh\n"
     ]
    }
   ],
   "source": [
    "def invertir_string(cadena):  # Define una función que recibe un string 'cadena'\n",
    "    resultado = \"\"  # Crea un string vacío para almacenar el resultado invertido\n",
    "    for i in range(len(cadena)-1, -1, -1):  # Itera desde el último carácter hasta el primero\n",
    "        resultado += cadena[i]  # Concatena cada carácter en orden inverso\n",
    "    return resultado  # Devuelve el string invertido\n",
    "\n",
    "# Ejemplo de uso:\n",
    "texto = \"hola\"  # Define un string de ejemplo\n",
    "resultado = invertir_string(texto)  # Llama a la función para invertirlo\n",
    "print(\"Ejercicio 3:\", resultado)  # Imprime \"aloh\""
   ]
  },
  {
   "cell_type": "markdown",
   "id": "ecb0a406-73d1-4c36-a765-30b543b479c8",
   "metadata": {},
   "source": [
    "#### EJERCICIO 04\n"
   ]
  },
  {
   "cell_type": "code",
   "execution_count": 8,
   "id": "7cb90575-a7e0-4475-a6a0-e7a622bd1ecc",
   "metadata": {},
   "outputs": [
    {
     "name": "stdout",
     "output_type": "stream",
     "text": [
      "Ejercicio 4: aloh\n"
     ]
    }
   ],
   "source": [
    "invertir_lambda = lambda s: s[::-1]  # Define una función lambda que toma 's' y devuelve 's' invertido usando slicing\n",
    "\n",
    "# Ejemplo de uso:\n",
    "texto = \"hola\"  # String de ejemplo\n",
    "resultado = invertir_lambda(texto)  # Llama a la lambda pasando 'texto'\n",
    "print(\"Ejercicio 4:\", resultado)  # Imprime \"aloh\""
   ]
  },
  {
   "cell_type": "markdown",
   "id": "d107f39c-0e23-4dd0-8740-491f76eda0bd",
   "metadata": {},
   "source": [
    "#### EJERCICIO 05\n"
   ]
  },
  {
   "cell_type": "code",
   "execution_count": 9,
   "id": "adbee067-808b-47f1-b34c-0da6adb32171",
   "metadata": {},
   "outputs": [
    {
     "name": "stdout",
     "output_type": "stream",
     "text": [
      "Ejercicio 5: True\n"
     ]
    }
   ],
   "source": [
    "def en_rango(numero, inicio, fin):  # Define una función que recibe un número y un rango (inicio, fin)\n",
    "    return inicio <= numero <= fin  # Retorna True si 'numero' está entre 'inicio' y 'fin' (incluyendo extremos)\n",
    "\n",
    "# Ejemplo de uso:\n",
    "numero = 5  # Número a verificar\n",
    "inicio_rango = 1  # Límite inferior del rango\n",
    "fin_rango = 10  # Límite superior del rango\n",
    "resultado = en_rango(numero, inicio_rango, fin_rango)  # Llama a la función\n",
    "print(\"Ejercicio 5:\", resultado)  # Imprime True (5 está entre 1 y 10)"
   ]
  },
  {
   "cell_type": "markdown",
   "id": "83d7bbdb-0715-4454-983a-de27944f7ad0",
   "metadata": {},
   "source": [
    "#### EJERCICIO 06\n"
   ]
  },
  {
   "cell_type": "code",
   "execution_count": 10,
   "id": "1b73d612-3c81-4a9e-b3c7-1183e289c1a0",
   "metadata": {},
   "outputs": [
    {
     "name": "stdout",
     "output_type": "stream",
     "text": [
      "Ejercicio 6 (caso correcto): [3, 6, 9, 12, 15]\n",
      "Error: El número debe ser positivo\n",
      "Ejercicio 6 (caso incorrecto): []\n"
     ]
    }
   ],
   "source": [
    "def primeros_multiplos(n):  # Define una función que recibe un número 'n'\n",
    "    if n <= 0:  # Si 'n' es negativo o cero...\n",
    "        print(\"Error: El número debe ser positivo\")  # Muestra un mensaje de error\n",
    "        return []  # Retorna una lista vacía\n",
    "    return [n * i for i in range(1, 6)]  # Si 'n' es positivo, genera una lista con los primeros 5 múltiplos\n",
    "\n",
    "# Ejemplo de uso (caso correcto):\n",
    "numero = 3  # Número válido\n",
    "resultado = primeros_multiplos(numero)  # Llama a la función\n",
    "print(\"Ejercicio 6 (caso correcto):\", resultado)  # Imprime [3, 6, 9, 12, 15]\n",
    "\n",
    "# Ejemplo de uso (caso incorrecto):\n",
    "numero_erroneo = -2  # Número inválido\n",
    "resultado_error = primeros_multiplos(numero_erroneo)  # Llama a la función (imprime error)\n",
    "print(\"Ejercicio 6 (caso incorrecto):\", resultado_error)  # Imprime [] (lista vacía)"
   ]
  },
  {
   "cell_type": "markdown",
   "id": "f2981638-8bb3-4d9e-aaf1-b906a245cf15",
   "metadata": {},
   "source": [
    "#### EJERCICIO 07\n"
   ]
  },
  {
   "cell_type": "code",
   "execution_count": 11,
   "id": "a680e771-9eec-42ee-8805-d0c4e84104cd",
   "metadata": {},
   "outputs": [
    {
     "name": "stdout",
     "output_type": "stream",
     "text": [
      "Ejercicio 7: True\n"
     ]
    }
   ],
   "source": [
    "def tiene_duplicados(lista):  # Define una función que recibe una lista\n",
    "    return len(lista) != len(set(lista))  # Compara la longitud de la lista con su versión en conjunto (sin duplicados)\n",
    "\n",
    "# Ejemplo de uso:\n",
    "lista_con_duplicados = [1, 2, 3, 2]  # Lista con duplicados\n",
    "resultado = tiene_duplicados(lista_con_duplicados)  # Llama a la función\n",
    "print(\"Ejercicio 7:\", resultado)  # Imprime True (tiene duplicados)  "
   ]
  },
  {
   "cell_type": "markdown",
   "id": "35712e03-23df-49e5-9ad8-a230f7d1a391",
   "metadata": {},
   "source": [
    "#### EJERCICIO 08\n"
   ]
  },
  {
   "cell_type": "code",
   "execution_count": 12,
   "id": "338bedb7-bd08-4f1d-a614-11fbce6b2bfc",
   "metadata": {},
   "outputs": [
    {
     "name": "stdout",
     "output_type": "stream",
     "text": [
      "Ejercicio 8: True\n"
     ]
    }
   ],
   "source": [
    "tiene_duplicados_lambda = lambda l: len(l) != len(set(l))  # Lambda que hace lo mismo que la función anterior\n",
    "\n",
    "# Ejemplo de uso:\n",
    "lista = [1, 2, 2, 3]  # Lista con duplicados\n",
    "resultado = tiene_duplicados_lambda(lista)  # Llama a la lambda\n",
    "print(\"Ejercicio 8:\", resultado)  # Imprime True"
   ]
  },
  {
   "cell_type": "markdown",
   "id": "ef34bcbb-cd00-49a0-abb0-3a7faee6984f",
   "metadata": {},
   "source": [
    "#### EJERCICIO 09\n"
   ]
  },
  {
   "cell_type": "code",
   "execution_count": 13,
   "id": "4f03c27a-996d-4e9b-90cf-c0b1d22fb4d7",
   "metadata": {},
   "outputs": [
    {
     "name": "stdout",
     "output_type": "stream",
     "text": [
      "Ejercicio 9 (palíndromo): True\n",
      "Ejercicio 9 (no palíndromo): False\n"
     ]
    }
   ],
   "source": [
    "def es_palindromo(cadena):  # Define una función que recibe un string 'cadena'\n",
    "    cadena = cadena.lower()  # Convierte el string a minúsculas para evitar problemas de mayúsculas/minúsculas\n",
    "    return cadena == cadena[::-1]  # Compara el string original con su versión invertida\n",
    "\n",
    "# Ejemplo de uso:\n",
    "palabra = \"reconocer\"  # Palíndromo\n",
    "resultado = es_palindromo(palabra)  # Llama a la función\n",
    "print(\"Ejercicio 9 (palíndromo):\", resultado)  # Imprime True\n",
    "\n",
    "palabra_no_palindromo = \"python\"  # No palíndromo\n",
    "resultado = es_palindromo(palabra_no_palindromo)  # Llama a la función\n",
    "print(\"Ejercicio 9 (no palíndromo):\", resultado)  # Imprime False"
   ]
  }
 ],
 "metadata": {
  "kernelspec": {
   "display_name": "Python 3 (ipykernel)",
   "language": "python",
   "name": "python3"
  },
  "language_info": {
   "codemirror_mode": {
    "name": "ipython",
    "version": 3
   },
   "file_extension": ".py",
   "mimetype": "text/x-python",
   "name": "python",
   "nbconvert_exporter": "python",
   "pygments_lexer": "ipython3",
   "version": "3.13.5"
  }
 },
 "nbformat": 4,
 "nbformat_minor": 5
}
