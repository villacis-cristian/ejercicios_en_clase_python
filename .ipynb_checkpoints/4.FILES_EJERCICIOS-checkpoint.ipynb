{
 "cells": [
  {
   "cell_type": "markdown",
   "id": "e1b651fc-f802-415d-a3c1-ee28678e8145",
   "metadata": {},
   "source": [
    "# EJERCICIOS DE FILES EN PYTHON"
   ]
  },
  {
   "cell_type": "markdown",
   "id": "936669f4-e155-4812-a478-bbd9e2092f83",
   "metadata": {},
   "source": [
    "# link de GITHUB: https://github.com/villacis-cristian/ejercicios_en_clase_python.git"
   ]
  },
  {
   "cell_type": "markdown",
   "id": "9fa004b8-b0da-4640-964a-1013428d1af8",
   "metadata": {},
   "source": [
    "#### CRISTIAN ANDRES VILLACIS MENDOZA\n",
    "### DESARROLLO DE SOFTWARE\n"
   ]
  },
  {
   "cell_type": "markdown",
   "id": "be660ced-f9c0-4448-a7cd-d6e1fa0fb04b",
   "metadata": {},
   "source": [
    "1. Escribe una función que reciba una ruta de un fichero de texto y una cadena de caracteres a buscar y determine si la cadena aparece en el fichero.\n",
    "\n",
    "2. Escribe una función que reciba una lista, una ruta destino y un número *n*. La función debe crear un fichero en la ruta especificada. El contenido del fichero serán los primeros *n* elementos de la lista. La función debe controlar de manera apropiada los posibles valores de *n* que estén fuera de rango.\n",
    "\n",
    "3. Escribe una función que reciba una ruta de un fichero de texto devuelva un diccionario con la frecuencia de aparición de cada palabra. Ejemplo: un fichero que contenga la frase 'es mejor que venga que que no venga' devolverá el siguiente diccionario: {'es' : 1, 'mejor' : 1, 'que' : 3, 'venga' : 2, 'no' : 1}. Para dividir un string en palabras puedes hacer uso del método *split*."
   ]
  },
  {
   "cell_type": "markdown",
   "id": "bb76ec40-355a-4652-98fd-d38f64a38200",
   "metadata": {},
   "source": [
    "# EJERCICIO 1"
   ]
  },
  {
   "cell_type": "code",
   "execution_count": 2,
   "id": "f8164e02-0d4e-4023-8037-ce20acdd1f70",
   "metadata": {},
   "outputs": [],
   "source": [
    "def buscar_cadena_en_archivo(ruta_archivo, cadena_buscar):\n",
    "    try:\n",
    "        with open(ruta_archivo, 'r', encoding='utf-8') as archivo:\n",
    "            contenido = archivo.read()\n",
    "            return cadena_buscar in contenido  # Devuelve True si la cadena está, False si no\n",
    "    except FileNotFoundError:\n",
    "        print(\"Archivo no encontrado.\")\n",
    "        return False\n",
    "    except Exception as e:\n",
    "        print(f\"Error inesperado: {e}\")\n",
    "        return False"
   ]
  },
  {
   "cell_type": "markdown",
   "id": "1999211c-a882-41af-a043-8252e2709ea2",
   "metadata": {},
   "source": [
    "# EJERCICIO 2"
   ]
  },
  {
   "cell_type": "code",
   "execution_count": null,
   "id": "c3a157f6-2814-40aa-8090-e63cca9891b8",
   "metadata": {},
   "outputs": [],
   "source": [
    "def guardar_primeros_n(ruta_destino, lista, n):\n",
    "    try:\n",
    "        if n < 0:\n",
    "            raise ValueError(\"n no puede ser negativo\")\n",
    "        elementos = lista[:n]  # Corta la lista hasta n, aunque n esté fuera del rango\n",
    "        with open(ruta_destino, 'w', encoding='utf-8') as archivo:\n",
    "            for item in elementos:\n",
    "                archivo.write(f\"{item}\\n\")  # Escribe cada elemento en una línea\n",
    "        print(\"Archivo creado con éxito.\")\n",
    "    except Exception as e:\n",
    "        print(f\"Error al guardar el archivo: {e}\")\n"
   ]
  },
  {
   "cell_type": "markdown",
   "id": "781d0b27-5e7a-4931-8fe7-1371213593bf",
   "metadata": {},
   "source": [
    "# EJERCICIO 3"
   ]
  },
  {
   "cell_type": "code",
   "execution_count": null,
   "id": "091ee9c7-35ef-4d82-88ee-5c64bdf1d453",
   "metadata": {},
   "outputs": [],
   "source": [
    "def contar_palabras_en_archivo(ruta_archivo):\n",
    "    try:\n",
    "        with open(ruta_archivo, 'r', encoding='utf-8') as archivo:\n",
    "            texto = archivo.read()\n",
    "            palabras = texto.split()  # Divide el texto en palabras usando espacios\n",
    "            frecuencia = {}\n",
    "            for palabra in palabras:\n",
    "                palabra = palabra.strip(\".,;:!¿?¡()[]\\\"'\")  # Limpia signos de puntuación\n",
    "                palabra = palabra.lower()\n",
    "                frecuencia[palabra] = frecuencia.get(palabra, 0) + 1\n",
    "            return frecuencia\n",
    "    except FileNotFoundError:\n",
    "        print(\"Archivo no encontrado.\")\n",
    "        return {}\n",
    "    except Exception as e:\n",
    "        print(f\"Error inesperado: {e}\")\n",
    "        return {}"
   ]
  }
 ],
 "metadata": {
  "kernelspec": {
   "display_name": "Python 3 (ipykernel)",
   "language": "python",
   "name": "python3"
  },
  "language_info": {
   "codemirror_mode": {
    "name": "ipython",
    "version": 3
   },
   "file_extension": ".py",
   "mimetype": "text/x-python",
   "name": "python",
   "nbconvert_exporter": "python",
   "pygments_lexer": "ipython3",
   "version": "3.13.5"
  }
 },
 "nbformat": 4,
 "nbformat_minor": 5
}
