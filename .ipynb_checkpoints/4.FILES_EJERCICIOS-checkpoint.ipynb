{
 "cells": [
  {
   "cell_type": "code",
   "execution_count": 1,
   "id": "6790480e-3e16-4b1b-ba98-cd23325b3338",
   "metadata": {},
   "outputs": [],
   "source": [
    "# ------------------------------------------------------------\n",
    "# 1. Buscar si una cadena aparece en un archivo de texto\n",
    "# -------------------------------------------en un archivo\n",
    "# --------------------------------------------------------------------------\n",
    "# 2. Guardar los primeros n elementos de una lista ---\n",
    "# 3. Contar frecuencia de palabras en un archivo\n"
   ]
  },
  {
   "cell_type": "markdown",
   "id": "bb76ec40-355a-4652-98fd-d38f64a38200",
   "metadata": {},
   "source": [
    "# EJERCICIO 1"
   ]
  },
  {
   "cell_type": "code",
   "execution_count": 2,
   "id": "274856ee-2a37-4fe1-ac06-b18b85d51aa3",
   "metadata": {},
   "outputs": [],
   "source": [
    "def buscar_cadena_en_archivo(ruta_archivo, cadena_buscar):\n",
    "    try:\n",
    "        with open(ruta_archivo, 'r', encoding='utf-8') as archivo:\n",
    "            contenido = archivo.read()\n",
    "            return cadena_buscar in contenido  # Devuelve True si la cadena está, False si no\n",
    "    except FileNotFoundError:\n",
    "        print(\"Archivo no encontrado.\")\n",
    "        return False\n",
    "    except Exception as e:\n",
    "        print(f\"Error inesperado: {e}\")\n",
    "        return False"
   ]
  },
  {
   "cell_type": "markdown",
   "id": "1999211c-a882-41af-a043-8252e2709ea2",
   "metadata": {},
   "source": [
    "# EJERCICIO 2"
   ]
  },
  {
   "cell_type": "code",
   "execution_count": null,
   "id": "c3a157f6-2814-40aa-8090-e63cca9891b8",
   "metadata": {},
   "outputs": [],
   "source": [
    "def guardar_primeros_n(ruta_destino, lista, n):\n",
    "    try:\n",
    "        if n < 0:\n",
    "            raise ValueError(\"n no puede ser negativo\")\n",
    "        elementos = lista[:n]  # Corta la lista hasta n, aunque n esté fuera del rango\n",
    "        with open(ruta_destino, 'w', encoding='utf-8') as archivo:\n",
    "            for item in elementos:\n",
    "                archivo.write(f\"{item}\\n\")  # Escribe cada elemento en una línea\n",
    "        print(\"Archivo creado con éxito.\")\n",
    "    except Exception as e:\n",
    "        print(f\"Error al guardar el archivo: {e}\")\n"
   ]
  },
  {
   "cell_type": "markdown",
   "id": "781d0b27-5e7a-4931-8fe7-1371213593bf",
   "metadata": {},
   "source": [
    "# EJERCICIO 3"
   ]
  },
  {
   "cell_type": "code",
   "execution_count": null,
   "id": "091ee9c7-35ef-4d82-88ee-5c64bdf1d453",
   "metadata": {},
   "outputs": [],
   "source": [
    "def contar_palabras_en_archivo(ruta_archivo):\n",
    "    try:\n",
    "        with open(ruta_archivo, 'r', encoding='utf-8') as archivo:\n",
    "            texto = archivo.read()\n",
    "            palabras = texto.split()  # Divide el texto en palabras usando espacios\n",
    "            frecuencia = {}\n",
    "            for palabra in palabras:\n",
    "                palabra = palabra.strip(\".,;:!¿?¡()[]\\\"'\")  # Limpia signos de puntuación\n",
    "                palabra = palabra.lower()\n",
    "                frecuencia[palabra] = frecuencia.get(palabra, 0) + 1\n",
    "            return frecuencia\n",
    "    except FileNotFoundError:\n",
    "        print(\"Archivo no encontrado.\")\n",
    "        return {}\n",
    "    except Exception as e:\n",
    "        print(f\"Error inesperado: {e}\")\n",
    "        return {}"
   ]
  }
 ],
 "metadata": {
  "kernelspec": {
   "display_name": "Python 3 (ipykernel)",
   "language": "python",
   "name": "python3"
  },
  "language_info": {
   "codemirror_mode": {
    "name": "ipython",
    "version": 3
   },
   "file_extension": ".py",
   "mimetype": "text/x-python",
   "name": "python",
   "nbconvert_exporter": "python",
   "pygments_lexer": "ipython3",
   "version": "3.13.5"
  }
 },
 "nbformat": 4,
 "nbformat_minor": 5
}
