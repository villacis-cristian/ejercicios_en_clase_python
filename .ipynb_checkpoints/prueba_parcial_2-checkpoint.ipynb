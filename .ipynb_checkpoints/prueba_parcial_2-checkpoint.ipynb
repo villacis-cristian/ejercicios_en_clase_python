{
 "cells": [
  {
   "cell_type": "markdown",
   "id": "0e05cd74-4c4a-4959-95db-cba307a9b8fd",
   "metadata": {},
   "source": [
    "## PRUEBA PARCIAL 2\n",
    "*soy CRISTAN ANDRES VILLACIS MENDOZA, desarrollo de software 4, esta es la prueba parcial 2, MACHEIN ES TODO\n",
    "\n",
    "* machine learning -  1"
   ]
  },
  {
   "cell_type": "markdown",
   "id": "b2def1f9-0621-49e6-89c6-c48563edefb7",
   "metadata": {},
   "source": [
    "## 01 - 1 pt\n",
    "- Dado un array de elementos, escribir una función, que reciba dicho array como parámetro de entrada y devuelva el elemento repetido. Usando plain Python, sin ninguna librería."
   ]
  },
  {
   "cell_type": "code",
   "execution_count": 3,
   "id": "1cb88a9c-7516-4adc-a8b1-97aced4da5cd",
   "metadata": {},
   "outputs": [
    {
     "name": "stdout",
     "output_type": "stream",
     "text": [
      "Elemento repetido: 3\n"
     ]
    }
   ],
   "source": [
    "import pandas as pd\n",
    "\n",
    "def encontrar_primer_repetido(arr):\n",
    "    \"\"\"\n",
    "    Retorna el primer elemento que se repite en la lista.\n",
    "    \"\"\"\n",
    "    serie = pd.Series(arr)\n",
    "    duplicados = serie[serie.duplicated()]\n",
    "    if not duplicados.empty:\n",
    "        print(f\"🔁 Repetido encontrado: {duplicados.iloc[0]}\")\n",
    "        return duplicados.iloc[0]\n",
    "    print(\"✅ No hay repetidos.\")\n",
    "    return None\n",
    "\n",
    "# Test\n",
    "encontrar_primer_repetido(['z', 'a', 'x', 'a', 'm', 'x'])\n"
   ]
  },
  {
   "cell_type": "markdown",
   "id": "175a54fe-095b-49aa-a65f-668d0fd59149",
   "metadata": {},
   "source": [
    "## 02 - 1pt\n",
    "- Genera una matriz con valores aleatorios de 0 a 100 de dimensiones 16x16\n",
    "- Calcula los siguentes estadísticos en la matriz anterior, por fila (el resultado de cada uno debe ser un array de dimensiones 1x16)\n",
    "  - Suma de los elementos de cada fila\n",
    "  - Media de los elementos de cada fila\n",
    "  - Valores mínimos de cada fila\n",
    "  - Valores máximos de cada fila"
   ]
  },
  {
   "cell_type": "code",
   "execution_count": 5,
   "id": "598122df-7927-4c03-b503-d6932a84d9ac",
   "metadata": {},
   "outputs": [
    {
     "name": "stdout",
     "output_type": "stream",
     "text": [
      "📘 Matriz creada:\n",
      " [[42 62 33 70 94 81 24 37 41 86 52 99  9 45 84 40]\n",
      " [76 54 88 83  0  1 46 64 19 74 36  0 78 22  7 35]\n",
      " [56 68 80 88  8 38 43  8 35 87 73 84 65 59 53 75]\n",
      " [93 35 69 12 89 73 24 83 31 35 42 43 80 16 15 17]\n",
      " [97 27 63 38 64 34 12 39 21 25 94 17 76 48  5 42]\n",
      " [ 8 24 50 23 93 46 89 73 15 60 96 62 13 59  1 85]\n",
      " [53 64 98  3 52 60 11 90 83 61 96 93 63 87 79 89]\n",
      " [66 47 16 14 58 89 39 58 94  8 88 27 40 84 99 86]\n",
      " [18  6 16 35 32 26 53  7 83 81 83 97  2 49 42 44]\n",
      " [41 57 53 23 34 21  3 54 42 72 40 54 77 48 86 42]\n",
      " [68 66  1 77 47 62  1  5 64 56 31 66 58 86 95  1]\n",
      " [36 92 63 14 13 44 86  2 80 41 73 94 46 37 45 89]\n",
      " [21 57 16 10  8 28  4 12 18 35 42 16 11 96 17 74]\n",
      " [51 89 74 96 35 53 30 60 39 31 47 73 26 62 93 71]\n",
      " [15 52 77 38 34 55 18 72 96 16 16 59 13 62 58 66]\n",
      " [82 72 72 60 12 94 92 15 80 93 17 19 11 35 64 62]]\n",
      "📌 Suma por fila:\n",
      "[ 899  683  920  757  702  797 1082  913  674  747  784  855  465  930\n",
      "  747  880]\n",
      "📌 Media por fila:\n",
      "[56.1875 42.6875 57.5    47.3125 43.875  49.8125 67.625  57.0625 42.125\n",
      " 46.6875 49.     53.4375 29.0625 58.125  46.6875 55.    ]\n",
      "📌 Min por fila:\n",
      "[ 9  0  8 12  5  1  3  8  2  3  1  2  4 26 13 11]\n",
      "📌 Max por fila:\n",
      "[99 88 88 93 97 96 98 99 97 86 95 94 96 96 96 94]\n"
     ]
    }
   ],
   "source": [
    "import numpy as np\n",
    "\n",
    "class MatrizAnalisis:\n",
    "    def __init__(self, filas=16, columnas=16):\n",
    "        self.data = np.random.randint(0, 101, (filas, columnas))\n",
    "        print(\"📘 Matriz creada:\\n\", self.data)\n",
    "\n",
    "    def estadisticas_por_fila(self):\n",
    "        return {\n",
    "            'suma': np.sum(self.data, axis=1),\n",
    "            'media': np.mean(self.data, axis=1),\n",
    "            'min': np.min(self.data, axis=1),\n",
    "            'max': np.max(self.data, axis=1)\n",
    "        }\n",
    "\n",
    "# Uso\n",
    "matriz = MatrizAnalisis()\n",
    "res = matriz.estadisticas_por_fila()\n",
    "for clave, val in res.items():\n",
    "    print(f\"📌 {clave.title()} por fila:\\n{val}\")\n"
   ]
  },
  {
   "cell_type": "code",
   "execution_count": null,
   "id": "33c42f93-e831-45b9-84aa-b2d7a03d5fc1",
   "metadata": {},
   "outputs": [],
   "source": [
    "import numpy as np\n",
    "\n",
    "# Generamos matriz 16x16 con enteros de 0 a 100\n",
    "matriz = np.random.randint(0, 101, (16, 16))\n",
    "\n",
    "# Suma por fila\n",
    "suma_filas = np.sum(matriz, axis=1)\n",
    "\n",
    "# Media por fila\n",
    "media_filas = np.mean(matriz, axis=1)\n",
    "\n",
    "# Mínimos por fila\n",
    "min_filas = np.min(matriz, axis=1)\n",
    "\n",
    "# Máximos por fila\n",
    "max_filas = np.max(matriz, axis=1)\n"
   ]
  },
  {
   "cell_type": "markdown",
   "id": "6fa3ceef-e55a-4b23-bbb5-3c93ae93f814",
   "metadata": {},
   "source": [
    "## 03 - 1pt\n",
    "\n",
    "- Generar un dataframe de 3x4 dimensiones con valores númericos aleatorios [0,10]\n",
    "- Darle un índice semántico alfanumérico\n",
    "- Aplicarle una función lambda que obtenga la diferencia entre el máximo y mínimo de cada fila"
   ]
  },
  {
   "cell_type": "code",
   "execution_count": 6,
   "id": "afde335d-2563-4054-9134-94cb1367a5aa",
   "metadata": {
    "jp-MarkdownHeadingCollapsed": true
   },
   "outputs": [
    {
     "name": "stdout",
     "output_type": "stream",
     "text": [
      "📘 DataFrame generado:\n",
      "       X  Y  Z  W\n",
      "Δ-F1  5  5  7  4\n",
      "β-F2  3  3  4  4\n",
      "Ω-F3  4  3  8  0\n",
      "\n",
      "📐 Rango por fila:\n",
      " Δ-F1    3\n",
      "β-F2    1\n",
      "Ω-F3    8\n",
      "dtype: int64\n"
     ]
    }
   ],
   "source": [
    "import pandas as pd\n",
    "import numpy as np\n",
    "\n",
    "def diferencia_max_min(df):\n",
    "    \"\"\"\n",
    "    Calcula la diferencia entre el valor máximo y mínimo de cada fila.\n",
    "    \"\"\"\n",
    "    return df.apply(lambda fila: fila.max() - fila.min(), axis=1)\n",
    "\n",
    "def generar_df_complejo():\n",
    "    df = pd.DataFrame(np.random.randint(0, 11, (3, 4)),\n",
    "                      index=[\"Δ-F1\", \"β-F2\", \"Ω-F3\"],\n",
    "                      columns=[\"X\", \"Y\", \"Z\", \"W\"])\n",
    "    print(\"📘 DataFrame generado:\\n\", df)\n",
    "    diferencias = diferencia_max_min(df)\n",
    "    print(\"\\n📐 Rango por fila:\\n\", diferencias)\n",
    "\n",
    "# Ejecutar\n",
    "generar_df_complejo()\n"
   ]
  },
  {
   "cell_type": "code",
   "execution_count": 7,
   "id": "48071724-74e6-4b12-8423-bfddbfffe1d6",
   "metadata": {},
   "outputs": [
    {
     "name": "stdout",
     "output_type": "stream",
     "text": [
      "🧾 Array original:\n",
      " [[ 17. -97.  93. -32.  55.]\n",
      " [ 93.  90. -32. -98. -53.]\n",
      " [ 63. -65.   4.  61. -73.]\n",
      " [-60. -52.   8. -20. -53.]\n",
      " [ 66. -61. -38.  14.  53.]\n",
      " [ 81.  52.  66. -18.  -1.]\n",
      " [  0.  77. -54. -92. -54.]\n",
      " [ 28.  42. -77.  26.  25.]]\n",
      "\n",
      "🎯 Con transformaciones (5 → 100, 3 → NaN):\n",
      " [[ 17. -97.  nan -32. 100.]\n",
      " [ nan 100. -32. -98. -53.]\n",
      " [ nan 100.   4.  61. -73.]\n",
      " [100. -52.   8. 100. -53.]\n",
      " [ nan -61. -38.  14.  53.]\n",
      " [ nan  52.  nan  nan  -1.]\n",
      " [100.  77.  nan -92.  nan]\n",
      " [ 28.  nan -77.  26. 100.]]\n",
      "\n",
      "❌ NaNs por fila:\n",
      " [1 1 1 0 1 3 2 1]\n",
      "\n",
      "✅ Array final (sin NaNs):\n",
      " [[ 17. -97.   0. -32. 100.]\n",
      " [  0. 100. -32. -98. -53.]\n",
      " [  0. 100.   4.  61. -73.]\n",
      " [100. -52.   8. 100. -53.]\n",
      " [  0. -61. -38.  14.  53.]\n",
      " [  0.  52.   0.   0.  -1.]\n",
      " [100.  77.   0. -92.   0.]\n",
      " [ 28.   0. -77.  26. 100.]]\n"
     ]
    }
   ],
   "source": [
    "import numpy as np\n",
    "\n",
    "def procesar_array():\n",
    "    arr = np.random.randint(-100, 101, (8, 5)).astype(float)\n",
    "    print(\"🧾 Array original:\\n\", arr)\n",
    "\n",
    "    # Múltiplos de 5 → 100\n",
    "    mask5 = (arr % 5 == 0)\n",
    "    arr[mask5] = 100\n",
    "\n",
    "    # Múltiplos de 3 → NaN\n",
    "    mask3 = (arr % 3 == 0)\n",
    "    arr[mask3] = np.nan\n",
    "\n",
    "    print(\"\\n🎯 Con transformaciones (5 → 100, 3 → NaN):\\n\", arr)\n",
    "\n",
    "    # Conteo de NaN por fila\n",
    "    nan_count = np.isnan(arr).sum(axis=1)\n",
    "    print(\"\\n❌ NaNs por fila:\\n\", nan_count)\n",
    "\n",
    "    # Rellenar NaNs con 0\n",
    "    arr[np.isnan(arr)] = 0\n",
    "    print(\"\\n✅ Array final (sin NaNs):\\n\", arr)\n",
    "\n",
    "# Ejecutar\n",
    "procesar_array()\n"
   ]
  },
  {
   "cell_type": "markdown",
   "id": "6b8bd8b0-d799-4e1f-9188-3f23eb153634",
   "metadata": {
    "jp-MarkdownHeadingCollapsed": true
   },
   "source": [
    "## 04 - 1pt\n",
    "- Crear un array de NumPy de dimensiones 8x5, con números enteros aleatorios en el rango [-100, 100]\n",
    "- Ejecutar en este orden\n",
    "\n",
    "  1. Reemplazar los valores de todos aquellos números múltiplos de 5 por 100\n",
    "  2. Reemplazar los valores de todos aquellos números múltiplos de 3 por Nan\n",
    "   \n",
    "  2. Averiguar cuantos elementos tienen Nan por fila\n",
    "  3. Reemplazar los valores de Nan por 0"
   ]
  },
  {
   "cell_type": "markdown",
   "id": "c46809a2-66bc-43f5-9737-4e5c6ad729bc",
   "metadata": {},
   "source": [
    "## 05 - 1pt\n",
    "- Crear una función que reciba una lista de strings y devuelva una serie de pandas, y convierta el primer y último carácter de la palabra de cada elemento de la serie a mayúsculas"
   ]
  },
  {
   "cell_type": "markdown",
   "id": "98aa86d9-a504-4324-b3e5-9a26c2aca848",
   "metadata": {},
   "source": [
    "## 06 - 1pt\n",
    "- La serie de Fibonacci es una sucesión de números, en la cual cada número es la suma de los dos anteriores. Los dos primeros son siempre 0 y 1.\n",
    "  - $F_0 = 0$\n",
    "  - $F_1 = 1$\n",
    "  - $F_n = F_{n-1} + F_{n-2}$\n",
    "- Crear un generador infinito de números de Fibonacci."
   ]
  },
  {
   "cell_type": "markdown",
   "id": "4b532188-bf8f-4094-8898-ec1740c196e5",
   "metadata": {},
   "source": [
    "## 07 - 4pt\n",
    "- Crear una lista de meses de Enero a Diciembre (eje X)\n",
    "- Generar datos aleatorios para el eje Y, hacerlo 3 veces distintas (Y0, Y1 e Y2)\n",
    "- Representar las 3 secuencias de datos aleatorios en una sola figura usando matplotlib\n",
    "- Añadir una leyenda para poder identificar cada secuencia\n",
    "- Nombrar las 3 secuencias de la siguiente manera (\"Facebook\", \"Twitter\", \"Instagram\")\n",
    "- Añadir un título y nombres a los dos ejes\n",
    "- Añadir una anotación (texto y flecha) a uno de los gráficos"
   ]
  }
 ],
 "metadata": {
  "kernelspec": {
   "display_name": "Python 3 (ipykernel)",
   "language": "python",
   "name": "python3"
  },
  "language_info": {
   "codemirror_mode": {
    "name": "ipython",
    "version": 3
   },
   "file_extension": ".py",
   "mimetype": "text/x-python",
   "name": "python",
   "nbconvert_exporter": "python",
   "pygments_lexer": "ipython3",
   "version": "3.13.5"
  }
 },
 "nbformat": 4,
 "nbformat_minor": 5
}
