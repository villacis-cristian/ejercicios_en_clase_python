{
 "cells": [
  {
   "cell_type": "markdown",
   "id": "6b91cdfc-8110-4e09-86e1-e59633598d4d",
   "metadata": {},
   "source": [
    "# Examen del Tercer Parcial \n",
    "## Regresión lineal\n",
    "Dado el archivo **movie_genre_classification_final.csv** se encuentra un base de datos con información de **50000 películas** que incluyen variables como: <br>\n",
    " * Título,\n",
    " * Año de estreno,\n",
    " * Duración,\n",
    " * Puntuación promedio,\n",
    " * Número de votos,\n",
    " * Presupuesto,\n",
    " * Ingresos en taquilla,\n",
    " * Número de premios obtenidos,\n",
    " * Entre otras caracterisiticas.\n",
    "Como parate del análisis de predicción, se desea estudiar la relación entre el:<br>\n",
    "* Presupuesto de una película\n",
    "y sus caracteristicas cuantitativas, para estimar la **recaudación en taquilla (BoxOffice_USD)**. Para ello, se plantea entrenar un modelo de regresión lineal.<br>\n",
    "\n",
    "# Objetivo \n",
    "Predecir el valor de la variable **BoxOffice_USD** a partir de variables numéricas independientes disponibles en el dataset, tales como:<br>\n",
    "* Budget_USD (Presupuesto en dólares)\n",
    "* Duration (Duración en minutos)\n",
    "* Ratting (Calificiación Promedio\"\n",
    "* Votes (Número de votos)\n",
    "* Num_Awards (Número de premios obtenidos)\n",
    "* Critic_reviews (Números de reseñas de criticos)\n",
    "\n",
    "El dataset fue extraido desder <a href=\"https://www.kaggle.com/datasets/therohithanand/movie-genre-classification\">DataSet<a> <br>\n",
    "\n",
    "## Entrega esperada\n",
    "* Código bien estructurado y comentado\n",
    "* Gráficos claros en los pasos 2, 4 y 5.\n",
    "* Breve análisis escrito de lso los resultados obtenidos.\n",
    "\n"
   ]
  },
  {
   "cell_type": "markdown",
   "id": "f9a96850-9035-4a49-be9b-b2cd967af0db",
   "metadata": {},
   "source": [
    "# EXAMEN FINAL TERCER PARCIAL VIDA O MUERTE TODO SI NO NADA MUERTE AL PUNK"
   ]
  },
  {
   "cell_type": "markdown",
   "id": "efe75ccd-b77e-4605-a67c-3491df191cfd",
   "metadata": {},
   "source": [
    "# Análisis de Regresión Lineal para Predecir Recaudación en Taquilla\n"
   ]
  },
  {
   "cell_type": "code",
   "execution_count": 9,
   "id": "800398c0-ec10-4b2b-a8df-a81fedee654b",
   "metadata": {},
   "outputs": [],
   "source": [
    "# Importación de librerías necesarias (CORREGIDO)\n",
    "import pandas as pd  # Para manipulación y análisis de datos\n",
    "import numpy as np   # Para operaciones numéricas\n",
    "import matplotlib.pyplot as plt  # Para visualización de datos\n",
    "import seaborn as sns  # Para gráficos estadísticos más avanzados\n",
    "from sklearn.model_selection import train_test_split  # Para dividir datos en entrenamiento y prueba\n",
    "from sklearn.linear_model import LinearRegression  # Modelo de regresión lineal\n",
    "from sklearn.metrics import mean_squared_error, r2_score  # Métricas de evaluación\n",
    "from sklearn.preprocessing import StandardScaler  # Para escalar variables\n",
    "\n",
    "# Configuración de estilo para los gráficos (CORREGIDO)\n",
    "sns.set(style=\"whitegrid\")  # Usamos el estilo whitegrid de seaborn\n",
    "plt.style.use('ggplot')  # Cambiamos 'seaborn' por 'ggplot' que es un estilo disponible"
   ]
  },
  {
   "cell_type": "markdown",
   "id": "67ad481d-9ead-446c-9b31-a6b936e0d489",
   "metadata": {},
   "source": [
    "# Carga y Exploración Inicial de Datos"
   ]
  },
  {
   "cell_type": "code",
   "execution_count": 2,
   "id": "819c6e86-bacb-41eb-9f23-e2d12959297b",
   "metadata": {},
   "outputs": [
    {
     "name": "stdout",
     "output_type": "stream",
     "text": [
      "Dataset cargado exitosamente!\n",
      "\n",
      "Primeras 5 filas del dataset:\n",
      "             Title  Year  Director  Duration  Rating   Votes  \\\n",
      "0  Winds of Fate 4  1980    R. Lee       167     4.1  182425   \n",
      "1     Firestorm 11  2014   S. Chen       166     4.1  449351   \n",
      "2    Silent Echo 2  2016   A. Khan       170     4.1  363328   \n",
      "3    City Lights 4  1982  L. Zhang       170     9.9   62371   \n",
      "4   Broken Truth 1  1990  L. Zhang        91     5.3    4600   \n",
      "\n",
      "                                         Description  Language Country  \\\n",
      "0   A touching love story with heartwarming moments.   Spanish   China   \n",
      "1  A fast-paced thriller with intense action scenes.    Korean   China   \n",
      "2  A fast-paced thriller with intense action scenes.    Korean   Japan   \n",
      "3  An emotional journey exploring complex charact...  Japanese   Japan   \n",
      "4  An imaginative world filled with magic and won...    Korean     USA   \n",
      "\n",
      "   Budget_USD  BoxOffice_USD    Genre Production_Company Content_Rating  \\\n",
      "0    39979615      179936008  Romance         DreamWorks              R   \n",
      "1   116404774      802121619   Action            Netflix              R   \n",
      "2   166261330      225526871   Action              Pixar             PG   \n",
      "3    28861315       69813738    Drama            Netflix          NC-17   \n",
      "4    43890403      375136716  Fantasy      Studio Ghibli             PG   \n",
      "\n",
      "         Lead_Actor  Num_Awards  Critic_Reviews  \n",
      "0    Kangana Ranaut           8             229  \n",
      "1    Kangana Ranaut          20             466  \n",
      "2  Amitabh Bachchan          16             539  \n",
      "3   Natalie Portman          15             606  \n",
      "4       Chris Evans           6             330  \n",
      "\n",
      "Información del dataset:\n",
      "<class 'pandas.core.frame.DataFrame'>\n",
      "RangeIndex: 50000 entries, 0 to 49999\n",
      "Data columns (total 17 columns):\n",
      " #   Column              Non-Null Count  Dtype  \n",
      "---  ------              --------------  -----  \n",
      " 0   Title               50000 non-null  object \n",
      " 1   Year                50000 non-null  int64  \n",
      " 2   Director            50000 non-null  object \n",
      " 3   Duration            50000 non-null  int64  \n",
      " 4   Rating              50000 non-null  float64\n",
      " 5   Votes               50000 non-null  int64  \n",
      " 6   Description         50000 non-null  object \n",
      " 7   Language            50000 non-null  object \n",
      " 8   Country             50000 non-null  object \n",
      " 9   Budget_USD          50000 non-null  int64  \n",
      " 10  BoxOffice_USD       50000 non-null  int64  \n",
      " 11  Genre               50000 non-null  object \n",
      " 12  Production_Company  50000 non-null  object \n",
      " 13  Content_Rating      50000 non-null  object \n",
      " 14  Lead_Actor          50000 non-null  object \n",
      " 15  Num_Awards          50000 non-null  int64  \n",
      " 16  Critic_Reviews      50000 non-null  int64  \n",
      "dtypes: float64(1), int64(7), object(9)\n",
      "memory usage: 6.5+ MB\n",
      "None\n",
      "\n",
      "Estadísticas descriptivas:\n",
      "               Year     Duration        Rating          Votes    Budget_USD  \\\n",
      "count  50000.000000  50000.00000  50000.000000   50000.000000  5.000000e+04   \n",
      "mean    2001.562620    130.07312      6.926472  249699.050540  9.179143e+07   \n",
      "std       12.722539     29.11097      1.698758  144314.043032  5.823888e+07   \n",
      "min     1980.000000     80.00000      4.000000     516.000000  1.135566e+06   \n",
      "25%     1991.000000    105.00000      5.500000  124531.500000  4.389040e+07   \n",
      "50%     2002.000000    130.00000      6.900000  248582.000000  8.062480e+07   \n",
      "75%     2013.000000    155.00000      8.400000  374833.500000  1.475557e+08   \n",
      "max     2023.000000    180.00000      9.900000  499984.000000  1.984445e+08   \n",
      "\n",
      "       BoxOffice_USD    Num_Awards  Critic_Reviews  \n",
      "count   5.000000e+04  50000.000000    50000.000000  \n",
      "mean    5.176063e+08      9.964440      500.176380  \n",
      "std     2.880283e+08      6.066303      289.971792  \n",
      "min     3.291117e+06      0.000000        0.000000  \n",
      "25%     2.590329e+08      5.000000      248.000000  \n",
      "50%     5.109973e+08     10.000000      500.000000  \n",
      "75%     7.704129e+08     15.000000      751.000000  \n",
      "max     9.925159e+08     20.000000     1000.000000  \n"
     ]
    }
   ],
   "source": [
    "# Cargar el dataset desde el archivo CSV\n",
    "# Asumimos que el archivo está en el mismo directorio que el script\n",
    "try:\n",
    "    df = pd.read_csv('movie_genre_classification_final.csv')\n",
    "    print(\"Dataset cargado exitosamente!\")\n",
    "    \n",
    "    # Mostrar las primeras filas para inspección visual\n",
    "    print(\"\\nPrimeras 5 filas del dataset:\")\n",
    "    print(df.head())\n",
    "    \n",
    "    # Información general del dataset\n",
    "    print(\"\\nInformación del dataset:\")\n",
    "    print(df.info())\n",
    "    \n",
    "    # Estadísticas descriptivas de las variables numéricas\n",
    "    print(\"\\nEstadísticas descriptivas:\")\n",
    "    print(df.describe())\n",
    "    \n",
    "except FileNotFoundError:\n",
    "    print(\"Error: El archivo no se encontró. Verifique la ruta.\")\n",
    "except Exception as e:\n",
    "    print(f\"Error inesperado al cargar el dataset: {e}\")"
   ]
  },
  {
   "cell_type": "markdown",
   "id": "fcf8318e-24ff-4aa2-86bf-409017429935",
   "metadata": {},
   "source": [
    "# Carga y Exploración Inicial de Datos"
   ]
  },
  {
   "cell_type": "code",
   "execution_count": 10,
   "id": "bb0a485e-e291-43dd-8622-0e26961fb6fd",
   "metadata": {},
   "outputs": [
    {
     "ename": "KeyError",
     "evalue": "\"['Ratting', 'Critic_reviews'] not in index\"",
     "output_type": "error",
     "traceback": [
      "\u001b[1;31m---------------------------------------------------------------------------\u001b[0m",
      "\u001b[1;31mKeyError\u001b[0m                                  Traceback (most recent call last)",
      "Cell \u001b[1;32mIn[10], line 3\u001b[0m\n\u001b[0;32m      1\u001b[0m \u001b[38;5;66;03m# Seleccionar solo las columnas numéricas relevantes para el análisis\u001b[39;00m\n\u001b[0;32m      2\u001b[0m variables \u001b[38;5;241m=\u001b[39m [\u001b[38;5;124m'\u001b[39m\u001b[38;5;124mBoxOffice_USD\u001b[39m\u001b[38;5;124m'\u001b[39m, \u001b[38;5;124m'\u001b[39m\u001b[38;5;124mBudget_USD\u001b[39m\u001b[38;5;124m'\u001b[39m, \u001b[38;5;124m'\u001b[39m\u001b[38;5;124mDuration\u001b[39m\u001b[38;5;124m'\u001b[39m, \u001b[38;5;124m'\u001b[39m\u001b[38;5;124mRatting\u001b[39m\u001b[38;5;124m'\u001b[39m, \u001b[38;5;124m'\u001b[39m\u001b[38;5;124mVotes\u001b[39m\u001b[38;5;124m'\u001b[39m, \u001b[38;5;124m'\u001b[39m\u001b[38;5;124mNum_Awards\u001b[39m\u001b[38;5;124m'\u001b[39m, \u001b[38;5;124m'\u001b[39m\u001b[38;5;124mCritic_reviews\u001b[39m\u001b[38;5;124m'\u001b[39m]\n\u001b[1;32m----> 3\u001b[0m df \u001b[38;5;241m=\u001b[39m df[variables]\n\u001b[0;32m      5\u001b[0m \u001b[38;5;66;03m# Eliminar filas con valores faltantes en alguna de las variables de interés\u001b[39;00m\n\u001b[0;32m      6\u001b[0m df \u001b[38;5;241m=\u001b[39m df\u001b[38;5;241m.\u001b[39mdropna()\n",
      "File \u001b[1;32m~\\anaconda3\\Lib\\site-packages\\pandas\\core\\frame.py:4108\u001b[0m, in \u001b[0;36mDataFrame.__getitem__\u001b[1;34m(self, key)\u001b[0m\n\u001b[0;32m   4106\u001b[0m     \u001b[38;5;28;01mif\u001b[39;00m is_iterator(key):\n\u001b[0;32m   4107\u001b[0m         key \u001b[38;5;241m=\u001b[39m \u001b[38;5;28mlist\u001b[39m(key)\n\u001b[1;32m-> 4108\u001b[0m     indexer \u001b[38;5;241m=\u001b[39m \u001b[38;5;28mself\u001b[39m\u001b[38;5;241m.\u001b[39mcolumns\u001b[38;5;241m.\u001b[39m_get_indexer_strict(key, \u001b[38;5;124m\"\u001b[39m\u001b[38;5;124mcolumns\u001b[39m\u001b[38;5;124m\"\u001b[39m)[\u001b[38;5;241m1\u001b[39m]\n\u001b[0;32m   4110\u001b[0m \u001b[38;5;66;03m# take() does not accept boolean indexers\u001b[39;00m\n\u001b[0;32m   4111\u001b[0m \u001b[38;5;28;01mif\u001b[39;00m \u001b[38;5;28mgetattr\u001b[39m(indexer, \u001b[38;5;124m\"\u001b[39m\u001b[38;5;124mdtype\u001b[39m\u001b[38;5;124m\"\u001b[39m, \u001b[38;5;28;01mNone\u001b[39;00m) \u001b[38;5;241m==\u001b[39m \u001b[38;5;28mbool\u001b[39m:\n",
      "File \u001b[1;32m~\\anaconda3\\Lib\\site-packages\\pandas\\core\\indexes\\base.py:6200\u001b[0m, in \u001b[0;36mIndex._get_indexer_strict\u001b[1;34m(self, key, axis_name)\u001b[0m\n\u001b[0;32m   6197\u001b[0m \u001b[38;5;28;01melse\u001b[39;00m:\n\u001b[0;32m   6198\u001b[0m     keyarr, indexer, new_indexer \u001b[38;5;241m=\u001b[39m \u001b[38;5;28mself\u001b[39m\u001b[38;5;241m.\u001b[39m_reindex_non_unique(keyarr)\n\u001b[1;32m-> 6200\u001b[0m \u001b[38;5;28mself\u001b[39m\u001b[38;5;241m.\u001b[39m_raise_if_missing(keyarr, indexer, axis_name)\n\u001b[0;32m   6202\u001b[0m keyarr \u001b[38;5;241m=\u001b[39m \u001b[38;5;28mself\u001b[39m\u001b[38;5;241m.\u001b[39mtake(indexer)\n\u001b[0;32m   6203\u001b[0m \u001b[38;5;28;01mif\u001b[39;00m \u001b[38;5;28misinstance\u001b[39m(key, Index):\n\u001b[0;32m   6204\u001b[0m     \u001b[38;5;66;03m# GH 42790 - Preserve name from an Index\u001b[39;00m\n",
      "File \u001b[1;32m~\\anaconda3\\Lib\\site-packages\\pandas\\core\\indexes\\base.py:6252\u001b[0m, in \u001b[0;36mIndex._raise_if_missing\u001b[1;34m(self, key, indexer, axis_name)\u001b[0m\n\u001b[0;32m   6249\u001b[0m     \u001b[38;5;28;01mraise\u001b[39;00m \u001b[38;5;167;01mKeyError\u001b[39;00m(\u001b[38;5;124mf\u001b[39m\u001b[38;5;124m\"\u001b[39m\u001b[38;5;124mNone of [\u001b[39m\u001b[38;5;132;01m{\u001b[39;00mkey\u001b[38;5;132;01m}\u001b[39;00m\u001b[38;5;124m] are in the [\u001b[39m\u001b[38;5;132;01m{\u001b[39;00maxis_name\u001b[38;5;132;01m}\u001b[39;00m\u001b[38;5;124m]\u001b[39m\u001b[38;5;124m\"\u001b[39m)\n\u001b[0;32m   6251\u001b[0m not_found \u001b[38;5;241m=\u001b[39m \u001b[38;5;28mlist\u001b[39m(ensure_index(key)[missing_mask\u001b[38;5;241m.\u001b[39mnonzero()[\u001b[38;5;241m0\u001b[39m]]\u001b[38;5;241m.\u001b[39munique())\n\u001b[1;32m-> 6252\u001b[0m \u001b[38;5;28;01mraise\u001b[39;00m \u001b[38;5;167;01mKeyError\u001b[39;00m(\u001b[38;5;124mf\u001b[39m\u001b[38;5;124m\"\u001b[39m\u001b[38;5;132;01m{\u001b[39;00mnot_found\u001b[38;5;132;01m}\u001b[39;00m\u001b[38;5;124m not in index\u001b[39m\u001b[38;5;124m\"\u001b[39m)\n",
      "\u001b[1;31mKeyError\u001b[0m: \"['Ratting', 'Critic_reviews'] not in index\""
     ]
    }
   ],
   "source": [
    "# Seleccionar solo las columnas numéricas relevantes para el análisis\n",
    "variables = ['BoxOffice_USD', 'Budget_USD', 'Duration', 'Ratting', 'Votes', 'Num_Awards', 'Critic_reviews']\n",
    "df = df[variables]\n",
    "\n",
    "# Eliminar filas con valores faltantes en alguna de las variables de interés\n",
    "df = df.dropna()\n",
    "\n",
    "# Verificar la distribución de BoxOffice_USD (nuestra variable objetivo)\n",
    "plt.figure(figsize=(10, 6))\n",
    "sns.histplot(df['BoxOffice_USD'], bins=50, kde=True)\n",
    "plt.title('Distribución de Recaudación en Taquilla (BoxOffice_USD)')\n",
    "plt.xlabel('Recaudación (USD)')\n",
    "plt.ylabel('Frecuencia')\n",
    "plt.show()\n",
    "\n",
    "# Aplicar transformación logarítmica para manejar la asimetría en BoxOffice_USD\n",
    "df['log_BoxOffice'] = np.log1p(df['BoxOffice_USD'])\n",
    "\n",
    "# Graficar la distribución transformada\n",
    "plt.figure(figsize=(10, 6))\n",
    "sns.histplot(df['log_BoxOffice'], bins=50, kde=True)\n",
    "plt.title('Distribución Logarítmica de Recaudación en Taquilla')\n",
    "plt.xlabel('log(Recaudación)')\n",
    "plt.ylabel('Frecuencia')\n",
    "plt.show()"
   ]
  },
  {
   "cell_type": "markdown",
   "id": "64c75e04-203e-4bac-89ec-617b9805aacd",
   "metadata": {},
   "source": [
    "# Análisis de Correlación"
   ]
  },
  {
   "cell_type": "code",
   "execution_count": 4,
   "id": "7bd7c77d-1f5c-436b-a6e4-58de2210a36c",
   "metadata": {},
   "outputs": [
    {
     "ename": "ValueError",
     "evalue": "could not convert string to float: 'Winds of Fate 4'",
     "output_type": "error",
     "traceback": [
      "\u001b[1;31m---------------------------------------------------------------------------\u001b[0m",
      "\u001b[1;31mValueError\u001b[0m                                Traceback (most recent call last)",
      "Cell \u001b[1;32mIn[4], line 2\u001b[0m\n\u001b[0;32m      1\u001b[0m \u001b[38;5;66;03m# Matriz de correlación entre variables\u001b[39;00m\n\u001b[1;32m----> 2\u001b[0m corr_matrix \u001b[38;5;241m=\u001b[39m df\u001b[38;5;241m.\u001b[39mcorr()\n\u001b[0;32m      4\u001b[0m \u001b[38;5;66;03m# Visualización de la matriz de correlación\u001b[39;00m\n\u001b[0;32m      5\u001b[0m plt\u001b[38;5;241m.\u001b[39mfigure(figsize\u001b[38;5;241m=\u001b[39m(\u001b[38;5;241m12\u001b[39m, \u001b[38;5;241m8\u001b[39m))\n",
      "File \u001b[1;32m~\\anaconda3\\Lib\\site-packages\\pandas\\core\\frame.py:11049\u001b[0m, in \u001b[0;36mDataFrame.corr\u001b[1;34m(self, method, min_periods, numeric_only)\u001b[0m\n\u001b[0;32m  11047\u001b[0m cols \u001b[38;5;241m=\u001b[39m data\u001b[38;5;241m.\u001b[39mcolumns\n\u001b[0;32m  11048\u001b[0m idx \u001b[38;5;241m=\u001b[39m cols\u001b[38;5;241m.\u001b[39mcopy()\n\u001b[1;32m> 11049\u001b[0m mat \u001b[38;5;241m=\u001b[39m data\u001b[38;5;241m.\u001b[39mto_numpy(dtype\u001b[38;5;241m=\u001b[39m\u001b[38;5;28mfloat\u001b[39m, na_value\u001b[38;5;241m=\u001b[39mnp\u001b[38;5;241m.\u001b[39mnan, copy\u001b[38;5;241m=\u001b[39m\u001b[38;5;28;01mFalse\u001b[39;00m)\n\u001b[0;32m  11051\u001b[0m \u001b[38;5;28;01mif\u001b[39;00m method \u001b[38;5;241m==\u001b[39m \u001b[38;5;124m\"\u001b[39m\u001b[38;5;124mpearson\u001b[39m\u001b[38;5;124m\"\u001b[39m:\n\u001b[0;32m  11052\u001b[0m     correl \u001b[38;5;241m=\u001b[39m libalgos\u001b[38;5;241m.\u001b[39mnancorr(mat, minp\u001b[38;5;241m=\u001b[39mmin_periods)\n",
      "File \u001b[1;32m~\\anaconda3\\Lib\\site-packages\\pandas\\core\\frame.py:1993\u001b[0m, in \u001b[0;36mDataFrame.to_numpy\u001b[1;34m(self, dtype, copy, na_value)\u001b[0m\n\u001b[0;32m   1991\u001b[0m \u001b[38;5;28;01mif\u001b[39;00m dtype \u001b[38;5;129;01mis\u001b[39;00m \u001b[38;5;129;01mnot\u001b[39;00m \u001b[38;5;28;01mNone\u001b[39;00m:\n\u001b[0;32m   1992\u001b[0m     dtype \u001b[38;5;241m=\u001b[39m np\u001b[38;5;241m.\u001b[39mdtype(dtype)\n\u001b[1;32m-> 1993\u001b[0m result \u001b[38;5;241m=\u001b[39m \u001b[38;5;28mself\u001b[39m\u001b[38;5;241m.\u001b[39m_mgr\u001b[38;5;241m.\u001b[39mas_array(dtype\u001b[38;5;241m=\u001b[39mdtype, copy\u001b[38;5;241m=\u001b[39mcopy, na_value\u001b[38;5;241m=\u001b[39mna_value)\n\u001b[0;32m   1994\u001b[0m \u001b[38;5;28;01mif\u001b[39;00m result\u001b[38;5;241m.\u001b[39mdtype \u001b[38;5;129;01mis\u001b[39;00m \u001b[38;5;129;01mnot\u001b[39;00m dtype:\n\u001b[0;32m   1995\u001b[0m     result \u001b[38;5;241m=\u001b[39m np\u001b[38;5;241m.\u001b[39masarray(result, dtype\u001b[38;5;241m=\u001b[39mdtype)\n",
      "File \u001b[1;32m~\\anaconda3\\Lib\\site-packages\\pandas\\core\\internals\\managers.py:1694\u001b[0m, in \u001b[0;36mBlockManager.as_array\u001b[1;34m(self, dtype, copy, na_value)\u001b[0m\n\u001b[0;32m   1692\u001b[0m         arr\u001b[38;5;241m.\u001b[39mflags\u001b[38;5;241m.\u001b[39mwriteable \u001b[38;5;241m=\u001b[39m \u001b[38;5;28;01mFalse\u001b[39;00m\n\u001b[0;32m   1693\u001b[0m \u001b[38;5;28;01melse\u001b[39;00m:\n\u001b[1;32m-> 1694\u001b[0m     arr \u001b[38;5;241m=\u001b[39m \u001b[38;5;28mself\u001b[39m\u001b[38;5;241m.\u001b[39m_interleave(dtype\u001b[38;5;241m=\u001b[39mdtype, na_value\u001b[38;5;241m=\u001b[39mna_value)\n\u001b[0;32m   1695\u001b[0m     \u001b[38;5;66;03m# The underlying data was copied within _interleave, so no need\u001b[39;00m\n\u001b[0;32m   1696\u001b[0m     \u001b[38;5;66;03m# to further copy if copy=True or setting na_value\u001b[39;00m\n\u001b[0;32m   1698\u001b[0m \u001b[38;5;28;01mif\u001b[39;00m na_value \u001b[38;5;129;01mis\u001b[39;00m lib\u001b[38;5;241m.\u001b[39mno_default:\n",
      "File \u001b[1;32m~\\anaconda3\\Lib\\site-packages\\pandas\\core\\internals\\managers.py:1753\u001b[0m, in \u001b[0;36mBlockManager._interleave\u001b[1;34m(self, dtype, na_value)\u001b[0m\n\u001b[0;32m   1751\u001b[0m     \u001b[38;5;28;01melse\u001b[39;00m:\n\u001b[0;32m   1752\u001b[0m         arr \u001b[38;5;241m=\u001b[39m blk\u001b[38;5;241m.\u001b[39mget_values(dtype)\n\u001b[1;32m-> 1753\u001b[0m     result[rl\u001b[38;5;241m.\u001b[39mindexer] \u001b[38;5;241m=\u001b[39m arr\n\u001b[0;32m   1754\u001b[0m     itemmask[rl\u001b[38;5;241m.\u001b[39mindexer] \u001b[38;5;241m=\u001b[39m \u001b[38;5;241m1\u001b[39m\n\u001b[0;32m   1756\u001b[0m \u001b[38;5;28;01mif\u001b[39;00m \u001b[38;5;129;01mnot\u001b[39;00m itemmask\u001b[38;5;241m.\u001b[39mall():\n",
      "\u001b[1;31mValueError\u001b[0m: could not convert string to float: 'Winds of Fate 4'"
     ]
    }
   ],
   "source": [
    "# Matriz de correlación entre variables\n",
    "corr_matrix = df.corr()\n",
    "\n",
    "# Visualización de la matriz de correlación\n",
    "plt.figure(figsize=(12, 8))\n",
    "sns.heatmap(corr_matrix, annot=True, cmap='coolwarm', center=0)\n",
    "plt.title('Matriz de Correlación entre Variables')\n",
    "plt.show()\n",
    "\n",
    "# Gráficos de dispersión para relaciones individuales\n",
    "sns.pairplot(df, vars=['log_BoxOffice', 'Budget_USD', 'Duration', 'Ratting', 'Votes'], \n",
    "             diag_kind='kde')\n",
    "plt.suptitle('Relaciones entre Variables', y=1.02)\n",
    "plt.show()"
   ]
  },
  {
   "cell_type": "markdown",
   "id": "73d9ea7f-0dbc-4747-bcb4-8e0cda4d3a5b",
   "metadata": {},
   "source": [
    "# Preparación de Datos para el Modelo"
   ]
  },
  {
   "cell_type": "code",
   "execution_count": 5,
   "id": "9f2b83a3-fb91-428c-bb96-c0af77120632",
   "metadata": {},
   "outputs": [
    {
     "ename": "KeyError",
     "evalue": "\"['Ratting', 'Critic_reviews'] not in index\"",
     "output_type": "error",
     "traceback": [
      "\u001b[1;31m---------------------------------------------------------------------------\u001b[0m",
      "\u001b[1;31mKeyError\u001b[0m                                  Traceback (most recent call last)",
      "Cell \u001b[1;32mIn[5], line 2\u001b[0m\n\u001b[0;32m      1\u001b[0m \u001b[38;5;66;03m# Definir variables independientes (X) y dependiente (y)\u001b[39;00m\n\u001b[1;32m----> 2\u001b[0m X \u001b[38;5;241m=\u001b[39m df[[\u001b[38;5;124m'\u001b[39m\u001b[38;5;124mBudget_USD\u001b[39m\u001b[38;5;124m'\u001b[39m, \u001b[38;5;124m'\u001b[39m\u001b[38;5;124mDuration\u001b[39m\u001b[38;5;124m'\u001b[39m, \u001b[38;5;124m'\u001b[39m\u001b[38;5;124mRatting\u001b[39m\u001b[38;5;124m'\u001b[39m, \u001b[38;5;124m'\u001b[39m\u001b[38;5;124mVotes\u001b[39m\u001b[38;5;124m'\u001b[39m, \u001b[38;5;124m'\u001b[39m\u001b[38;5;124mNum_Awards\u001b[39m\u001b[38;5;124m'\u001b[39m, \u001b[38;5;124m'\u001b[39m\u001b[38;5;124mCritic_reviews\u001b[39m\u001b[38;5;124m'\u001b[39m]]\n\u001b[0;32m      3\u001b[0m y \u001b[38;5;241m=\u001b[39m df[\u001b[38;5;124m'\u001b[39m\u001b[38;5;124mlog_BoxOffice\u001b[39m\u001b[38;5;124m'\u001b[39m]\n\u001b[0;32m      5\u001b[0m \u001b[38;5;66;03m# Dividir los datos en conjuntos de entrenamiento (80%) y prueba (20%)\u001b[39;00m\n",
      "File \u001b[1;32m~\\anaconda3\\Lib\\site-packages\\pandas\\core\\frame.py:4108\u001b[0m, in \u001b[0;36mDataFrame.__getitem__\u001b[1;34m(self, key)\u001b[0m\n\u001b[0;32m   4106\u001b[0m     \u001b[38;5;28;01mif\u001b[39;00m is_iterator(key):\n\u001b[0;32m   4107\u001b[0m         key \u001b[38;5;241m=\u001b[39m \u001b[38;5;28mlist\u001b[39m(key)\n\u001b[1;32m-> 4108\u001b[0m     indexer \u001b[38;5;241m=\u001b[39m \u001b[38;5;28mself\u001b[39m\u001b[38;5;241m.\u001b[39mcolumns\u001b[38;5;241m.\u001b[39m_get_indexer_strict(key, \u001b[38;5;124m\"\u001b[39m\u001b[38;5;124mcolumns\u001b[39m\u001b[38;5;124m\"\u001b[39m)[\u001b[38;5;241m1\u001b[39m]\n\u001b[0;32m   4110\u001b[0m \u001b[38;5;66;03m# take() does not accept boolean indexers\u001b[39;00m\n\u001b[0;32m   4111\u001b[0m \u001b[38;5;28;01mif\u001b[39;00m \u001b[38;5;28mgetattr\u001b[39m(indexer, \u001b[38;5;124m\"\u001b[39m\u001b[38;5;124mdtype\u001b[39m\u001b[38;5;124m\"\u001b[39m, \u001b[38;5;28;01mNone\u001b[39;00m) \u001b[38;5;241m==\u001b[39m \u001b[38;5;28mbool\u001b[39m:\n",
      "File \u001b[1;32m~\\anaconda3\\Lib\\site-packages\\pandas\\core\\indexes\\base.py:6200\u001b[0m, in \u001b[0;36mIndex._get_indexer_strict\u001b[1;34m(self, key, axis_name)\u001b[0m\n\u001b[0;32m   6197\u001b[0m \u001b[38;5;28;01melse\u001b[39;00m:\n\u001b[0;32m   6198\u001b[0m     keyarr, indexer, new_indexer \u001b[38;5;241m=\u001b[39m \u001b[38;5;28mself\u001b[39m\u001b[38;5;241m.\u001b[39m_reindex_non_unique(keyarr)\n\u001b[1;32m-> 6200\u001b[0m \u001b[38;5;28mself\u001b[39m\u001b[38;5;241m.\u001b[39m_raise_if_missing(keyarr, indexer, axis_name)\n\u001b[0;32m   6202\u001b[0m keyarr \u001b[38;5;241m=\u001b[39m \u001b[38;5;28mself\u001b[39m\u001b[38;5;241m.\u001b[39mtake(indexer)\n\u001b[0;32m   6203\u001b[0m \u001b[38;5;28;01mif\u001b[39;00m \u001b[38;5;28misinstance\u001b[39m(key, Index):\n\u001b[0;32m   6204\u001b[0m     \u001b[38;5;66;03m# GH 42790 - Preserve name from an Index\u001b[39;00m\n",
      "File \u001b[1;32m~\\anaconda3\\Lib\\site-packages\\pandas\\core\\indexes\\base.py:6252\u001b[0m, in \u001b[0;36mIndex._raise_if_missing\u001b[1;34m(self, key, indexer, axis_name)\u001b[0m\n\u001b[0;32m   6249\u001b[0m     \u001b[38;5;28;01mraise\u001b[39;00m \u001b[38;5;167;01mKeyError\u001b[39;00m(\u001b[38;5;124mf\u001b[39m\u001b[38;5;124m\"\u001b[39m\u001b[38;5;124mNone of [\u001b[39m\u001b[38;5;132;01m{\u001b[39;00mkey\u001b[38;5;132;01m}\u001b[39;00m\u001b[38;5;124m] are in the [\u001b[39m\u001b[38;5;132;01m{\u001b[39;00maxis_name\u001b[38;5;132;01m}\u001b[39;00m\u001b[38;5;124m]\u001b[39m\u001b[38;5;124m\"\u001b[39m)\n\u001b[0;32m   6251\u001b[0m not_found \u001b[38;5;241m=\u001b[39m \u001b[38;5;28mlist\u001b[39m(ensure_index(key)[missing_mask\u001b[38;5;241m.\u001b[39mnonzero()[\u001b[38;5;241m0\u001b[39m]]\u001b[38;5;241m.\u001b[39munique())\n\u001b[1;32m-> 6252\u001b[0m \u001b[38;5;28;01mraise\u001b[39;00m \u001b[38;5;167;01mKeyError\u001b[39;00m(\u001b[38;5;124mf\u001b[39m\u001b[38;5;124m\"\u001b[39m\u001b[38;5;132;01m{\u001b[39;00mnot_found\u001b[38;5;132;01m}\u001b[39;00m\u001b[38;5;124m not in index\u001b[39m\u001b[38;5;124m\"\u001b[39m)\n",
      "\u001b[1;31mKeyError\u001b[0m: \"['Ratting', 'Critic_reviews'] not in index\""
     ]
    }
   ],
   "source": [
    "# Definir variables independientes (X) y dependiente (y)\n",
    "X = df[['Budget_USD', 'Duration', 'Ratting', 'Votes', 'Num_Awards', 'Critic_reviews']]\n",
    "y = df['log_BoxOffice']\n",
    "\n",
    "# Dividir los datos en conjuntos de entrenamiento (80%) y prueba (20%)\n",
    "X_train, X_test, y_train, y_test = train_test_split(X, y, test_size=0.2, random_state=42)\n",
    "\n",
    "# Escalar las variables para que tengan media 0 y desviación estándar 1\n",
    "scaler = StandardScaler()\n",
    "X_train_scaled = scaler.fit_transform(X_train)\n",
    "X_test_scaled = scaler.transform(X_test)\n",
    "\n",
    "# Verificar las dimensiones de los conjuntos\n",
    "print(f\"\\nDimensiones de los conjuntos:\")\n",
    "print(f\"Entrenamiento: {X_train.shape}\")\n",
    "print(f\"Prueba: {X_test.shape}\")"
   ]
  },
  {
   "cell_type": "markdown",
   "id": "30065a71-f79c-4de4-a091-ad707c0025d7",
   "metadata": {},
   "source": [
    "# Entrenamiento del Modelo de Regresión Lineal"
   ]
  },
  {
   "cell_type": "code",
   "execution_count": 6,
   "id": "c1b64071-bc5f-4f81-9837-2bef9437de48",
   "metadata": {},
   "outputs": [
    {
     "ename": "NameError",
     "evalue": "name 'X_train_scaled' is not defined",
     "output_type": "error",
     "traceback": [
      "\u001b[1;31m---------------------------------------------------------------------------\u001b[0m",
      "\u001b[1;31mNameError\u001b[0m                                 Traceback (most recent call last)",
      "Cell \u001b[1;32mIn[6], line 3\u001b[0m\n\u001b[0;32m      1\u001b[0m \u001b[38;5;66;03m# Crear e entrenar el modelo de regresión lineal\u001b[39;00m\n\u001b[0;32m      2\u001b[0m model \u001b[38;5;241m=\u001b[39m LinearRegression()\n\u001b[1;32m----> 3\u001b[0m model\u001b[38;5;241m.\u001b[39mfit(X_train_scaled, y_train)\n\u001b[0;32m      5\u001b[0m \u001b[38;5;66;03m# Coeficientes del modelo\u001b[39;00m\n\u001b[0;32m      6\u001b[0m \u001b[38;5;28mprint\u001b[39m(\u001b[38;5;124m\"\u001b[39m\u001b[38;5;130;01m\\n\u001b[39;00m\u001b[38;5;124mCoeficientes del modelo:\u001b[39m\u001b[38;5;124m\"\u001b[39m)\n",
      "\u001b[1;31mNameError\u001b[0m: name 'X_train_scaled' is not defined"
     ]
    }
   ],
   "source": [
    "# Crear e entrenar el modelo de regresión lineal\n",
    "model = LinearRegression()\n",
    "model.fit(X_train_scaled, y_train)\n",
    "\n",
    "# Coeficientes del modelo\n",
    "print(\"\\nCoeficientes del modelo:\")\n",
    "for feature, coef in zip(X.columns, model.coef_):\n",
    "    print(f\"{feature}: {coef:.4f}\")\n",
    "    \n",
    "print(f\"\\nIntercepto: {model.intercept_:.4f}\")\n",
    "\n",
    "# Predecir en el conjunto de prueba\n",
    "y_pred = model.predict(X_test_scaled)\n",
    "\n",
    "# Calcular métricas de evaluación\n",
    "mse = mean_squared_error(y_test, y_pred)\n",
    "rmse = np.sqrt(mse)\n",
    "r2 = r2_score(y_test, y_pred)\n",
    "\n",
    "print(f\"\\nMétricas de evaluación:\")\n",
    "print(f\"MSE: {mse:.4f}\")\n",
    "print(f\"RMSE: {rmse:.4f}\")\n",
    "print(f\"R²: {r2:.4f}\")"
   ]
  },
  {
   "cell_type": "markdown",
   "id": "1f35f45e-446f-4c7c-ae3c-ced196f0bd7d",
   "metadata": {},
   "source": [
    "# Visualización de Resultados"
   ]
  },
  {
   "cell_type": "code",
   "execution_count": 7,
   "id": "1525917a-0237-481a-a695-9a7600a4aecd",
   "metadata": {},
   "outputs": [
    {
     "ename": "NameError",
     "evalue": "name 'y_test' is not defined",
     "output_type": "error",
     "traceback": [
      "\u001b[1;31m---------------------------------------------------------------------------\u001b[0m",
      "\u001b[1;31mNameError\u001b[0m                                 Traceback (most recent call last)",
      "Cell \u001b[1;32mIn[7], line 3\u001b[0m\n\u001b[0;32m      1\u001b[0m \u001b[38;5;66;03m# Gráfico de valores reales vs. predichos\u001b[39;00m\n\u001b[0;32m      2\u001b[0m plt\u001b[38;5;241m.\u001b[39mfigure(figsize\u001b[38;5;241m=\u001b[39m(\u001b[38;5;241m10\u001b[39m, \u001b[38;5;241m6\u001b[39m))\n\u001b[1;32m----> 3\u001b[0m plt\u001b[38;5;241m.\u001b[39mscatter(y_test, y_pred, alpha\u001b[38;5;241m=\u001b[39m\u001b[38;5;241m0.5\u001b[39m)\n\u001b[0;32m      4\u001b[0m plt\u001b[38;5;241m.\u001b[39mplot([y\u001b[38;5;241m.\u001b[39mmin(), y\u001b[38;5;241m.\u001b[39mmax()], [y\u001b[38;5;241m.\u001b[39mmin(), y\u001b[38;5;241m.\u001b[39mmax()], \u001b[38;5;124m'\u001b[39m\u001b[38;5;124mk--\u001b[39m\u001b[38;5;124m'\u001b[39m, lw\u001b[38;5;241m=\u001b[39m\u001b[38;5;241m2\u001b[39m)\n\u001b[0;32m      5\u001b[0m plt\u001b[38;5;241m.\u001b[39mxlabel(\u001b[38;5;124m'\u001b[39m\u001b[38;5;124mValor Real (log scale)\u001b[39m\u001b[38;5;124m'\u001b[39m)\n",
      "\u001b[1;31mNameError\u001b[0m: name 'y_test' is not defined"
     ]
    },
    {
     "data": {
      "text/plain": [
       "<Figure size 1000x600 with 0 Axes>"
      ]
     },
     "metadata": {},
     "output_type": "display_data"
    }
   ],
   "source": [
    "# Gráfico de valores reales vs. predichos\n",
    "plt.figure(figsize=(10, 6))\n",
    "plt.scatter(y_test, y_pred, alpha=0.5)\n",
    "plt.plot([y.min(), y.max()], [y.min(), y.max()], 'k--', lw=2)\n",
    "plt.xlabel('Valor Real (log scale)')\n",
    "plt.ylabel('Valor Predicho (log scale)')\n",
    "plt.title('Valores Reales vs. Predichos')\n",
    "plt.show()\n",
    "\n",
    "# Gráfico de residuos\n",
    "residuals = y_test - y_pred\n",
    "plt.figure(figsize=(10, 6))\n",
    "plt.scatter(y_pred, residuals, alpha=0.5)\n",
    "plt.axhline(y=0, color='r', linestyle='--')\n",
    "plt.xlabel('Valores Predichos')\n",
    "plt.ylabel('Residuos')\n",
    "plt.title('Análisis de Residuos')\n",
    "plt.show()\n",
    "\n",
    "# Importancia de características (coeficientes estandarizados)\n",
    "feature_importance = pd.DataFrame({\n",
    "    'Feature': X.columns,\n",
    "    'Importance': np.abs(model.coef_)\n",
    "}).sort_values('Importance', ascending=False)\n",
    "\n",
    "plt.figure(figsize=(10, 6))\n",
    "sns.barplot(x='Importance', y='Feature', data=feature_importance)\n",
    "plt.title('Importancia de Características en el Modelo')\n",
    "plt.show()"
   ]
  },
  {
   "cell_type": "markdown",
   "id": "2c083a63-7a3e-4f58-8b4e-9bde7031f97e",
   "metadata": {},
   "source": [
    " # Interpretación y Análisis de Resultados"
   ]
  },
  {
   "cell_type": "code",
   "execution_count": 8,
   "id": "175d774f-8ed6-46f6-bd10-cacdcd2d8e59",
   "metadata": {},
   "outputs": [
    {
     "ename": "SyntaxError",
     "evalue": "'(' was never closed (3798950634.py, line 9)",
     "output_type": "error",
     "traceback": [
      "\u001b[1;36m  Cell \u001b[1;32mIn[8], line 9\u001b[1;36m\u001b[0m\n\u001b[1;33m    pct_change = (np.exp(coef) - 1\u001b[0m\n\u001b[1;37m                 ^\u001b[0m\n\u001b[1;31mSyntaxError\u001b[0m\u001b[1;31m:\u001b[0m '(' was never closed\n"
     ]
    }
   ],
   "source": [
    "# Convertir coeficientes a su impacto real en USD (aproximado)\n",
    "# Para una interpretación más intuitiva\n",
    "average_boxoffice = np.expm1(df['log_BoxOffice'].mean())\n",
    "coef_interpretation = []\n",
    "\n",
    "for feature, coef in zip(X.columns, model.coef_):\n",
    "    # Para un aumento de 1 desviación estándar en la variable predictora\n",
    "    # el cambio porcentual en BoxOffice sería:\n",
    "    pct_change = (np.exp(coef) - 1\n",
    "    usd_change = average_boxoffice * pct_change\n",
    "    coef_interpretation.append({\n",
    "        'Variable': feature,\n",
    "        'Cambio_porcentual': f\"{pct_change*100:.2f}%\",\n",
    "        'Cambio_USD_aproximado': f\"${usd_change:,.2f}\"\n",
    "    })\n",
    "\n",
    "interpretation_df = pd.DataFrame(coef_interpretation)\n",
    "print(\"\\nInterpretación de coeficientes (aproximada):\")\n",
    "print(interpretation_df)"
   ]
  },
  {
   "cell_type": "code",
   "execution_count": null,
   "id": "d0f3210e-bf3a-4cc3-b4eb-dd0303fb58ed",
   "metadata": {},
   "outputs": [],
   "source": []
  }
 ],
 "metadata": {
  "kernelspec": {
   "display_name": "Python 3 (ipykernel)",
   "language": "python",
   "name": "python3"
  },
  "language_info": {
   "codemirror_mode": {
    "name": "ipython",
    "version": 3
   },
   "file_extension": ".py",
   "mimetype": "text/x-python",
   "name": "python",
   "nbconvert_exporter": "python",
   "pygments_lexer": "ipython3",
   "version": "3.13.5"
  }
 },
 "nbformat": 4,
 "nbformat_minor": 5
}
