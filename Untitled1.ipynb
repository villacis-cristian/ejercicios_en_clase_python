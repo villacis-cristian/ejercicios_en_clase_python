{
 "cells": [
  {
   "cell_type": "markdown",
   "id": "51a12313-fec0-465f-b05e-b809e65c86e7",
   "metadata": {},
   "source": [
    "# Examen del Tercer Parcial \n",
    "## Regresión lineal\n",
    "Dado el archivo **movie_genre_classification_final.csv** se encuentra un base de datos con información de **50000 películas** que incluyen variables como: <br>\n",
    " * Título,\n",
    " * Año de estreno,\n",
    " * Duración,\n",
    " * Puntuación promedio,\n",
    " * Número de votos,\n",
    " * Presupuesto,\n",
    " * Ingresos en taquilla,\n",
    " * Número de premios obtenidos,\n",
    " * Entre otras caracterisiticas.\n",
    "Como parate del análisis de predicción, se desea estudiar la relación entre el:<br>\n",
    "* Presupuesto de una película\n",
    "y sus caracteristicas cuantitativas, para estimar la **recaudación en taquilla (BoxOffice_USD)**. Para ello, se plantea entrenar un modelo de regresión lineal.<br>\n",
    "\n",
    "# Objetivo \n",
    "Predecir el valor de la variable **BoxOffice_USD** a partir de variables numéricas independientes disponibles en el dataset, tales como:<br>\n",
    "* Budget_USD (Presupuesto en dólares)\n",
    "* Duration (Duración en minutos)\n",
    "* Ratting (Calificiación Promedio\"\n",
    "* Votes (Número de votos)\n",
    "* Num_Awards (Número de premios obtenidos)\n",
    "* Critic_reviews (Números de reseñas de criticos)\n",
    "\n",
    "El dataset fue extraido desder <a href=\"https://www.kaggle.com/datasets/therohithanand/movie-genre-classification\">DataSet<a> <br>\n",
    "\n",
    "## Entrega esperada\n",
    "* Código bien estructurado y comentado\n",
    "* Gráficos claros en los pasos 2, 4 y 5.\n",
    "* Breve análisis escrito de lso los resultados obtenidos.\n"
   ]
  },
  {
   "cell_type": "markdown",
   "id": "6e4719b3-71af-4c87-a71c-5c6538901b7d",
   "metadata": {},
   "source": [
    "# IMPORTACION DE LAS LIBRERIAS"
   ]
  },
  {
   "cell_type": "code",
   "execution_count": 1,
   "id": "0818ddc8-cb03-43f2-b922-efe5c2d9dc15",
   "metadata": {},
   "outputs": [],
   "source": [
    "import pandas as pd\n",
    "import numpy as np\n",
    "import matplotlib.pyplot as plt\n",
    "import seaborn as sns\n",
    "from sklearn.model_selection import train_test_split\n",
    "from sklearn.linear_model import LinearRegression\n",
    "from sklearn.metrics import r2_score, mean_squared_error\n",
    "from sklearn.preprocessing import StandardScaler"
   ]
  },
  {
   "cell_type": "code",
   "execution_count": 2,
   "id": "2e2aae8d-863a-48e4-bf5e-a031d2a6b63d",
   "metadata": {},
   "outputs": [],
   "source": [
    "# Configuración inicial\n",
    "pd.set_option('display.max_columns', None)\n",
    "sns.set_style(\"whitegrid\")"
   ]
  },
  {
   "cell_type": "code",
   "execution_count": 3,
   "id": "3d22775c-f55a-43a4-ae99-944990d8e147",
   "metadata": {},
   "outputs": [
    {
     "name": "stdout",
     "output_type": "stream",
     "text": [
      "Cargando dataset...\n",
      "\n",
      "Filas: 50000, Columnas: 17\n",
      "\n",
      "Primeras 5 filas:\n",
      "             Title  Year  Director  Duration  Rating   Votes  \\\n",
      "0  Winds of Fate 4  1980    R. Lee       167     4.1  182425   \n",
      "1     Firestorm 11  2014   S. Chen       166     4.1  449351   \n",
      "2    Silent Echo 2  2016   A. Khan       170     4.1  363328   \n",
      "3    City Lights 4  1982  L. Zhang       170     9.9   62371   \n",
      "4   Broken Truth 1  1990  L. Zhang        91     5.3    4600   \n",
      "\n",
      "                                         Description  Language Country  \\\n",
      "0   A touching love story with heartwarming moments.   Spanish   China   \n",
      "1  A fast-paced thriller with intense action scenes.    Korean   China   \n",
      "2  A fast-paced thriller with intense action scenes.    Korean   Japan   \n",
      "3  An emotional journey exploring complex charact...  Japanese   Japan   \n",
      "4  An imaginative world filled with magic and won...    Korean     USA   \n",
      "\n",
      "   Budget_USD  BoxOffice_USD    Genre Production_Company Content_Rating  \\\n",
      "0    39979615      179936008  Romance         DreamWorks              R   \n",
      "1   116404774      802121619   Action            Netflix              R   \n",
      "2   166261330      225526871   Action              Pixar             PG   \n",
      "3    28861315       69813738    Drama            Netflix          NC-17   \n",
      "4    43890403      375136716  Fantasy      Studio Ghibli             PG   \n",
      "\n",
      "         Lead_Actor  Num_Awards  Critic_Reviews  \n",
      "0    Kangana Ranaut           8             229  \n",
      "1    Kangana Ranaut          20             466  \n",
      "2  Amitabh Bachchan          16             539  \n",
      "3   Natalie Portman          15             606  \n",
      "4       Chris Evans           6             330  \n"
     ]
    },
    {
     "ename": "KeyError",
     "evalue": "\"['Critic_reviews'] not in index\"",
     "output_type": "error",
     "traceback": [
      "\u001b[1;31m---------------------------------------------------------------------------\u001b[0m",
      "\u001b[1;31mKeyError\u001b[0m                                  Traceback (most recent call last)",
      "Cell \u001b[1;32mIn[3], line 13\u001b[0m\n\u001b[0;32m     11\u001b[0m \u001b[38;5;66;03m# Variables seleccionadas\u001b[39;00m\n\u001b[0;32m     12\u001b[0m variables \u001b[38;5;241m=\u001b[39m [\u001b[38;5;124m'\u001b[39m\u001b[38;5;124mBoxOffice_USD\u001b[39m\u001b[38;5;124m'\u001b[39m, \u001b[38;5;124m'\u001b[39m\u001b[38;5;124mBudget_USD\u001b[39m\u001b[38;5;124m'\u001b[39m, \u001b[38;5;124m'\u001b[39m\u001b[38;5;124mDuration\u001b[39m\u001b[38;5;124m'\u001b[39m, \u001b[38;5;124m'\u001b[39m\u001b[38;5;124mRating\u001b[39m\u001b[38;5;124m'\u001b[39m, \u001b[38;5;124m'\u001b[39m\u001b[38;5;124mVotes\u001b[39m\u001b[38;5;124m'\u001b[39m, \u001b[38;5;124m'\u001b[39m\u001b[38;5;124mNum_Awards\u001b[39m\u001b[38;5;124m'\u001b[39m, \u001b[38;5;124m'\u001b[39m\u001b[38;5;124mCritic_reviews\u001b[39m\u001b[38;5;124m'\u001b[39m]\n\u001b[1;32m---> 13\u001b[0m df \u001b[38;5;241m=\u001b[39m data[variables]\u001b[38;5;241m.\u001b[39mcopy()\n\u001b[0;32m     15\u001b[0m \u001b[38;5;66;03m# Estadísticas descriptivas\u001b[39;00m\n\u001b[0;32m     16\u001b[0m \u001b[38;5;28mprint\u001b[39m(\u001b[38;5;124m\"\u001b[39m\u001b[38;5;130;01m\\n\u001b[39;00m\u001b[38;5;124mEstadísticas descriptivas:\u001b[39m\u001b[38;5;124m\"\u001b[39m)\n",
      "File \u001b[1;32m~\\anaconda3\\Lib\\site-packages\\pandas\\core\\frame.py:4108\u001b[0m, in \u001b[0;36mDataFrame.__getitem__\u001b[1;34m(self, key)\u001b[0m\n\u001b[0;32m   4106\u001b[0m     \u001b[38;5;28;01mif\u001b[39;00m is_iterator(key):\n\u001b[0;32m   4107\u001b[0m         key \u001b[38;5;241m=\u001b[39m \u001b[38;5;28mlist\u001b[39m(key)\n\u001b[1;32m-> 4108\u001b[0m     indexer \u001b[38;5;241m=\u001b[39m \u001b[38;5;28mself\u001b[39m\u001b[38;5;241m.\u001b[39mcolumns\u001b[38;5;241m.\u001b[39m_get_indexer_strict(key, \u001b[38;5;124m\"\u001b[39m\u001b[38;5;124mcolumns\u001b[39m\u001b[38;5;124m\"\u001b[39m)[\u001b[38;5;241m1\u001b[39m]\n\u001b[0;32m   4110\u001b[0m \u001b[38;5;66;03m# take() does not accept boolean indexers\u001b[39;00m\n\u001b[0;32m   4111\u001b[0m \u001b[38;5;28;01mif\u001b[39;00m \u001b[38;5;28mgetattr\u001b[39m(indexer, \u001b[38;5;124m\"\u001b[39m\u001b[38;5;124mdtype\u001b[39m\u001b[38;5;124m\"\u001b[39m, \u001b[38;5;28;01mNone\u001b[39;00m) \u001b[38;5;241m==\u001b[39m \u001b[38;5;28mbool\u001b[39m:\n",
      "File \u001b[1;32m~\\anaconda3\\Lib\\site-packages\\pandas\\core\\indexes\\base.py:6200\u001b[0m, in \u001b[0;36mIndex._get_indexer_strict\u001b[1;34m(self, key, axis_name)\u001b[0m\n\u001b[0;32m   6197\u001b[0m \u001b[38;5;28;01melse\u001b[39;00m:\n\u001b[0;32m   6198\u001b[0m     keyarr, indexer, new_indexer \u001b[38;5;241m=\u001b[39m \u001b[38;5;28mself\u001b[39m\u001b[38;5;241m.\u001b[39m_reindex_non_unique(keyarr)\n\u001b[1;32m-> 6200\u001b[0m \u001b[38;5;28mself\u001b[39m\u001b[38;5;241m.\u001b[39m_raise_if_missing(keyarr, indexer, axis_name)\n\u001b[0;32m   6202\u001b[0m keyarr \u001b[38;5;241m=\u001b[39m \u001b[38;5;28mself\u001b[39m\u001b[38;5;241m.\u001b[39mtake(indexer)\n\u001b[0;32m   6203\u001b[0m \u001b[38;5;28;01mif\u001b[39;00m \u001b[38;5;28misinstance\u001b[39m(key, Index):\n\u001b[0;32m   6204\u001b[0m     \u001b[38;5;66;03m# GH 42790 - Preserve name from an Index\u001b[39;00m\n",
      "File \u001b[1;32m~\\anaconda3\\Lib\\site-packages\\pandas\\core\\indexes\\base.py:6252\u001b[0m, in \u001b[0;36mIndex._raise_if_missing\u001b[1;34m(self, key, indexer, axis_name)\u001b[0m\n\u001b[0;32m   6249\u001b[0m     \u001b[38;5;28;01mraise\u001b[39;00m \u001b[38;5;167;01mKeyError\u001b[39;00m(\u001b[38;5;124mf\u001b[39m\u001b[38;5;124m\"\u001b[39m\u001b[38;5;124mNone of [\u001b[39m\u001b[38;5;132;01m{\u001b[39;00mkey\u001b[38;5;132;01m}\u001b[39;00m\u001b[38;5;124m] are in the [\u001b[39m\u001b[38;5;132;01m{\u001b[39;00maxis_name\u001b[38;5;132;01m}\u001b[39;00m\u001b[38;5;124m]\u001b[39m\u001b[38;5;124m\"\u001b[39m)\n\u001b[0;32m   6251\u001b[0m not_found \u001b[38;5;241m=\u001b[39m \u001b[38;5;28mlist\u001b[39m(ensure_index(key)[missing_mask\u001b[38;5;241m.\u001b[39mnonzero()[\u001b[38;5;241m0\u001b[39m]]\u001b[38;5;241m.\u001b[39munique())\n\u001b[1;32m-> 6252\u001b[0m \u001b[38;5;28;01mraise\u001b[39;00m \u001b[38;5;167;01mKeyError\u001b[39;00m(\u001b[38;5;124mf\u001b[39m\u001b[38;5;124m\"\u001b[39m\u001b[38;5;132;01m{\u001b[39;00mnot_found\u001b[38;5;132;01m}\u001b[39;00m\u001b[38;5;124m not in index\u001b[39m\u001b[38;5;124m\"\u001b[39m)\n",
      "\u001b[1;31mKeyError\u001b[0m: \"['Critic_reviews'] not in index\""
     ]
    }
   ],
   "source": [
    "\n",
    "# PASO 1: CARGA Y EXPLORACIÓN INICIAL DEL DATASET\n",
    "# =============================================================================\n",
    "print(\"Cargando dataset...\")\n",
    "data = pd.read_csv('movie_genre_classification_final.csv')\n",
    "\n",
    "# Verificación básica\n",
    "print(f\"\\nFilas: {data.shape[0]}, Columnas: {data.shape[1]}\")\n",
    "print(\"\\nPrimeras 5 filas:\")\n",
    "print(data.head())\n",
    "\n",
    "# Variables seleccionadas\n",
    "variables = ['BoxOffice_USD', 'Budget_USD', 'Duration', 'Rating', 'Votes', 'Num_Awards', 'Critic_reviews']\n",
    "df = data[variables].copy()\n",
    "\n",
    "# Estadísticas descriptivas\n",
    "print(\"\\nEstadísticas descriptivas:\")\n",
    "print(df.describe())"
   ]
  },
  {
   "cell_type": "code",
   "execution_count": null,
   "id": "a7f71423-c805-4211-ba45-021c45a7d1d9",
   "metadata": {},
   "outputs": [],
   "source": []
  },
  {
   "cell_type": "code",
   "execution_count": 4,
   "id": "52197e61-666d-4a79-ab23-91d3bcceee41",
   "metadata": {},
   "outputs": [
    {
     "name": "stdout",
     "output_type": "stream",
     "text": [
      "Cargando dataset...\n",
      "\n",
      "Filas: 50000, Columnas: 17\n",
      "\n",
      "Primeras 5 filas:\n",
      "             Title  Year  Director  Duration  Rating   Votes  \\\n",
      "0  Winds of Fate 4  1980    R. Lee       167     4.1  182425   \n",
      "1     Firestorm 11  2014   S. Chen       166     4.1  449351   \n",
      "2    Silent Echo 2  2016   A. Khan       170     4.1  363328   \n",
      "3    City Lights 4  1982  L. Zhang       170     9.9   62371   \n",
      "4   Broken Truth 1  1990  L. Zhang        91     5.3    4600   \n",
      "\n",
      "                                         Description  Language Country  \\\n",
      "0   A touching love story with heartwarming moments.   Spanish   China   \n",
      "1  A fast-paced thriller with intense action scenes.    Korean   China   \n",
      "2  A fast-paced thriller with intense action scenes.    Korean   Japan   \n",
      "3  An emotional journey exploring complex charact...  Japanese   Japan   \n",
      "4  An imaginative world filled with magic and won...    Korean     USA   \n",
      "\n",
      "   Budget_USD  BoxOffice_USD    Genre Production_Company Content_Rating  \\\n",
      "0    39979615      179936008  Romance         DreamWorks              R   \n",
      "1   116404774      802121619   Action            Netflix              R   \n",
      "2   166261330      225526871   Action              Pixar             PG   \n",
      "3    28861315       69813738    Drama            Netflix          NC-17   \n",
      "4    43890403      375136716  Fantasy      Studio Ghibli             PG   \n",
      "\n",
      "         Lead_Actor  Num_Awards  Critic_Reviews  \n",
      "0    Kangana Ranaut           8             229  \n",
      "1    Kangana Ranaut          20             466  \n",
      "2  Amitabh Bachchan          16             539  \n",
      "3   Natalie Portman          15             606  \n",
      "4       Chris Evans           6             330  \n"
     ]
    },
    {
     "ename": "KeyError",
     "evalue": "\"['Critic_reviews'] not in index\"",
     "output_type": "error",
     "traceback": [
      "\u001b[1;31m---------------------------------------------------------------------------\u001b[0m",
      "\u001b[1;31mKeyError\u001b[0m                                  Traceback (most recent call last)",
      "Cell \u001b[1;32mIn[4], line 31\u001b[0m\n\u001b[0;32m     29\u001b[0m \u001b[38;5;66;03m# Variables seleccionadas\u001b[39;00m\n\u001b[0;32m     30\u001b[0m variables \u001b[38;5;241m=\u001b[39m [\u001b[38;5;124m'\u001b[39m\u001b[38;5;124mBoxOffice_USD\u001b[39m\u001b[38;5;124m'\u001b[39m, \u001b[38;5;124m'\u001b[39m\u001b[38;5;124mBudget_USD\u001b[39m\u001b[38;5;124m'\u001b[39m, \u001b[38;5;124m'\u001b[39m\u001b[38;5;124mDuration\u001b[39m\u001b[38;5;124m'\u001b[39m, \u001b[38;5;124m'\u001b[39m\u001b[38;5;124mRating\u001b[39m\u001b[38;5;124m'\u001b[39m, \u001b[38;5;124m'\u001b[39m\u001b[38;5;124mVotes\u001b[39m\u001b[38;5;124m'\u001b[39m, \u001b[38;5;124m'\u001b[39m\u001b[38;5;124mNum_Awards\u001b[39m\u001b[38;5;124m'\u001b[39m, \u001b[38;5;124m'\u001b[39m\u001b[38;5;124mCritic_reviews\u001b[39m\u001b[38;5;124m'\u001b[39m]\n\u001b[1;32m---> 31\u001b[0m df \u001b[38;5;241m=\u001b[39m data[variables]\u001b[38;5;241m.\u001b[39mcopy()\n\u001b[0;32m     33\u001b[0m \u001b[38;5;66;03m# Estadísticas descriptivas\u001b[39;00m\n\u001b[0;32m     34\u001b[0m \u001b[38;5;28mprint\u001b[39m(\u001b[38;5;124m\"\u001b[39m\u001b[38;5;130;01m\\n\u001b[39;00m\u001b[38;5;124mEstadísticas descriptivas:\u001b[39m\u001b[38;5;124m\"\u001b[39m)\n",
      "File \u001b[1;32m~\\anaconda3\\Lib\\site-packages\\pandas\\core\\frame.py:4108\u001b[0m, in \u001b[0;36mDataFrame.__getitem__\u001b[1;34m(self, key)\u001b[0m\n\u001b[0;32m   4106\u001b[0m     \u001b[38;5;28;01mif\u001b[39;00m is_iterator(key):\n\u001b[0;32m   4107\u001b[0m         key \u001b[38;5;241m=\u001b[39m \u001b[38;5;28mlist\u001b[39m(key)\n\u001b[1;32m-> 4108\u001b[0m     indexer \u001b[38;5;241m=\u001b[39m \u001b[38;5;28mself\u001b[39m\u001b[38;5;241m.\u001b[39mcolumns\u001b[38;5;241m.\u001b[39m_get_indexer_strict(key, \u001b[38;5;124m\"\u001b[39m\u001b[38;5;124mcolumns\u001b[39m\u001b[38;5;124m\"\u001b[39m)[\u001b[38;5;241m1\u001b[39m]\n\u001b[0;32m   4110\u001b[0m \u001b[38;5;66;03m# take() does not accept boolean indexers\u001b[39;00m\n\u001b[0;32m   4111\u001b[0m \u001b[38;5;28;01mif\u001b[39;00m \u001b[38;5;28mgetattr\u001b[39m(indexer, \u001b[38;5;124m\"\u001b[39m\u001b[38;5;124mdtype\u001b[39m\u001b[38;5;124m\"\u001b[39m, \u001b[38;5;28;01mNone\u001b[39;00m) \u001b[38;5;241m==\u001b[39m \u001b[38;5;28mbool\u001b[39m:\n",
      "File \u001b[1;32m~\\anaconda3\\Lib\\site-packages\\pandas\\core\\indexes\\base.py:6200\u001b[0m, in \u001b[0;36mIndex._get_indexer_strict\u001b[1;34m(self, key, axis_name)\u001b[0m\n\u001b[0;32m   6197\u001b[0m \u001b[38;5;28;01melse\u001b[39;00m:\n\u001b[0;32m   6198\u001b[0m     keyarr, indexer, new_indexer \u001b[38;5;241m=\u001b[39m \u001b[38;5;28mself\u001b[39m\u001b[38;5;241m.\u001b[39m_reindex_non_unique(keyarr)\n\u001b[1;32m-> 6200\u001b[0m \u001b[38;5;28mself\u001b[39m\u001b[38;5;241m.\u001b[39m_raise_if_missing(keyarr, indexer, axis_name)\n\u001b[0;32m   6202\u001b[0m keyarr \u001b[38;5;241m=\u001b[39m \u001b[38;5;28mself\u001b[39m\u001b[38;5;241m.\u001b[39mtake(indexer)\n\u001b[0;32m   6203\u001b[0m \u001b[38;5;28;01mif\u001b[39;00m \u001b[38;5;28misinstance\u001b[39m(key, Index):\n\u001b[0;32m   6204\u001b[0m     \u001b[38;5;66;03m# GH 42790 - Preserve name from an Index\u001b[39;00m\n",
      "File \u001b[1;32m~\\anaconda3\\Lib\\site-packages\\pandas\\core\\indexes\\base.py:6252\u001b[0m, in \u001b[0;36mIndex._raise_if_missing\u001b[1;34m(self, key, indexer, axis_name)\u001b[0m\n\u001b[0;32m   6249\u001b[0m     \u001b[38;5;28;01mraise\u001b[39;00m \u001b[38;5;167;01mKeyError\u001b[39;00m(\u001b[38;5;124mf\u001b[39m\u001b[38;5;124m\"\u001b[39m\u001b[38;5;124mNone of [\u001b[39m\u001b[38;5;132;01m{\u001b[39;00mkey\u001b[38;5;132;01m}\u001b[39;00m\u001b[38;5;124m] are in the [\u001b[39m\u001b[38;5;132;01m{\u001b[39;00maxis_name\u001b[38;5;132;01m}\u001b[39;00m\u001b[38;5;124m]\u001b[39m\u001b[38;5;124m\"\u001b[39m)\n\u001b[0;32m   6251\u001b[0m not_found \u001b[38;5;241m=\u001b[39m \u001b[38;5;28mlist\u001b[39m(ensure_index(key)[missing_mask\u001b[38;5;241m.\u001b[39mnonzero()[\u001b[38;5;241m0\u001b[39m]]\u001b[38;5;241m.\u001b[39munique())\n\u001b[1;32m-> 6252\u001b[0m \u001b[38;5;28;01mraise\u001b[39;00m \u001b[38;5;167;01mKeyError\u001b[39;00m(\u001b[38;5;124mf\u001b[39m\u001b[38;5;124m\"\u001b[39m\u001b[38;5;132;01m{\u001b[39;00mnot_found\u001b[38;5;132;01m}\u001b[39;00m\u001b[38;5;124m not in index\u001b[39m\u001b[38;5;124m\"\u001b[39m)\n",
      "\u001b[1;31mKeyError\u001b[0m: \"['Critic_reviews'] not in index\""
     ]
    }
   ],
   "source": []
  },
  {
   "cell_type": "code",
   "execution_count": null,
   "id": "dd9d68ad-e807-4749-a536-214790cdc74f",
   "metadata": {},
   "outputs": [],
   "source": []
  },
  {
   "cell_type": "code",
   "execution_count": null,
   "id": "3718ac07-d7e2-4b4b-a9ec-3aad0d22568c",
   "metadata": {},
   "outputs": [],
   "source": []
  },
  {
   "cell_type": "code",
   "execution_count": null,
   "id": "94ae5dfa-e7db-4205-b149-0b37fe33e2e1",
   "metadata": {},
   "outputs": [],
   "source": []
  },
  {
   "cell_type": "code",
   "execution_count": null,
   "id": "71106bd3-2689-4f86-a2ae-df87adbede1f",
   "metadata": {},
   "outputs": [],
   "source": []
  },
  {
   "cell_type": "code",
   "execution_count": null,
   "id": "3812dde9-2b69-4ce7-b6f0-94ed9524813b",
   "metadata": {},
   "outputs": [],
   "source": []
  },
  {
   "cell_type": "code",
   "execution_count": null,
   "id": "1a3f6d38-0880-46ad-b90f-5a5ea8c4f91a",
   "metadata": {},
   "outputs": [],
   "source": []
  },
  {
   "cell_type": "code",
   "execution_count": null,
   "id": "3a99aded-d677-48e2-bd04-72a7482c75f3",
   "metadata": {},
   "outputs": [],
   "source": []
  },
  {
   "cell_type": "code",
   "execution_count": null,
   "id": "f50f68f1-6703-4301-b597-db8957420483",
   "metadata": {},
   "outputs": [],
   "source": []
  },
  {
   "cell_type": "code",
   "execution_count": null,
   "id": "3ddfbd85-b627-4875-9e6e-a42dbdd8d9d8",
   "metadata": {},
   "outputs": [],
   "source": []
  },
  {
   "cell_type": "code",
   "execution_count": null,
   "id": "22a34912-5ff2-473c-86f7-09e741439e62",
   "metadata": {},
   "outputs": [],
   "source": []
  },
  {
   "cell_type": "code",
   "execution_count": null,
   "id": "a46b53fe-31f5-4a2d-8eb2-5e26ffc2f354",
   "metadata": {},
   "outputs": [],
   "source": []
  },
  {
   "cell_type": "code",
   "execution_count": null,
   "id": "8ce0b543-3bac-4d96-90a0-62250b760f8b",
   "metadata": {},
   "outputs": [],
   "source": []
  },
  {
   "cell_type": "code",
   "execution_count": null,
   "id": "44d2111e-d8bf-4106-9611-3a66072218bb",
   "metadata": {},
   "outputs": [],
   "source": []
  },
  {
   "cell_type": "code",
   "execution_count": null,
   "id": "bd3711db-51d2-4bf1-ad5b-24f43909223a",
   "metadata": {},
   "outputs": [],
   "source": []
  }
 ],
 "metadata": {
  "kernelspec": {
   "display_name": "Python 3 (ipykernel)",
   "language": "python",
   "name": "python3"
  },
  "language_info": {
   "codemirror_mode": {
    "name": "ipython",
    "version": 3
   },
   "file_extension": ".py",
   "mimetype": "text/x-python",
   "name": "python",
   "nbconvert_exporter": "python",
   "pygments_lexer": "ipython3",
   "version": "3.13.5"
  }
 },
 "nbformat": 4,
 "nbformat_minor": 5
}
