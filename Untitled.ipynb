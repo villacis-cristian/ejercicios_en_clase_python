{
 "cells": [
  {
   "cell_type": "markdown",
   "id": "5fdc36f9-3bbb-4fac-9efe-e2819bc68d09",
   "metadata": {},
   "source": [
    "Examen del Tercer Parcial\n",
    "Regresión lineal\n",
    "Dado el archivo movie_genre_classification_final.csv se encuentra un base de datos con información de 50000 películas que incluyen variables como:\n",
    "\n",
    "Título,\n",
    "Año de estreno,\n",
    "Duración,\n",
    "Puntuación promedio,\n",
    "Número de votos,\n",
    "Presupuesto,\n",
    "Ingresos en taquilla,\n",
    "Número de premios obtenidos,\n",
    "Entre otras caracterisiticas. Como parate del análisis de predicción, se desea estudiar la relación entre el:\n",
    "Presupuesto de una película y sus caracteristicas cuantitativas, para estimar la recaudación en taquilla (BoxOffice_USD). Para ello, se plantea entrenar un modelo de regresión lineal.\n",
    "Objetivo\n",
    "Predecir el valor de la variable BoxOffice_USD a partir de variables numéricas independientes disponibles en el dataset, tales como:\n",
    "\n",
    "Budget_USD (Presupuesto en dólares)\n",
    "Duration (Duración en minutos)\n",
    "Ratting (Calificiación Promedio\"\n",
    "Votes (Número de votos)\n",
    "Num_Awards (Número de premios obtenidos)\n",
    "Critic_reviews (Números de reseñas de criticos)\n",
    "El dataset fue extraido desder DataSet\n",
    "\n",
    "Entrega esperada\n",
    "Código bien estructurado y comentado\n",
    "Gráficos claros en los pasos 2, 4 y 5.\n",
    "Breve análisis escrito de lso los resultados obtenidos."
   ]
  },
  {
   "cell_type": "code",
   "execution_count": null,
   "id": "28dc4aac-7733-495a-80fd-fec8e16b04de",
   "metadata": {},
   "outputs": [],
   "source": []
  }
 ],
 "metadata": {
  "kernelspec": {
   "display_name": "Python 3 (ipykernel)",
   "language": "python",
   "name": "python3"
  },
  "language_info": {
   "codemirror_mode": {
    "name": "ipython",
    "version": 3
   },
   "file_extension": ".py",
   "mimetype": "text/x-python",
   "name": "python",
   "nbconvert_exporter": "python",
   "pygments_lexer": "ipython3",
   "version": "3.13.5"
  }
 },
 "nbformat": 4,
 "nbformat_minor": 5
}
