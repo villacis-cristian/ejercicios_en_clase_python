{
 "cells": [
  {
   "cell_type": "markdown",
   "id": "22ae4386-a5fa-4156-b3ca-88921899a182",
   "metadata": {},
   "source": [
    "# FUNCIONES en PYTHON"
   ]
  },
  {
   "cell_type": "markdown",
   "id": "2973715b-be5c-4b11-8fa4-512536f63cd8",
   "metadata": {},
   "source": [
    "## link de GITHUB:  https://github.com/villacis-cristian/ejercicios_en_clase_python.git\n"
   ]
  },
  {
   "cell_type": "markdown",
   "id": "836b9387-0653-4532-bab7-6333a4f39ce5",
   "metadata": {},
   "source": [
    "#### CRISTIAN ANDRES VILLACIS MENDOZA\n",
    "### DESARROLLO DE SOFTWARE\n"
   ]
  },
  {
   "cell_type": "markdown",
   "id": "1b5aaafc-08bb-40ae-99dc-487745780bdb",
   "metadata": {},
   "source": [
    "# EJERCICIOS en Python"
   ]
  },
  {
   "cell_type": "markdown",
   "id": "cbd7ba90-b0d9-441e-a9bc-b040ce4da05c",
   "metadata": {},
   "source": [
    "1. Escribe un programa que calcule la suma de todos los elementos de una *lista* dada. La lista sólo puede contener elementos numéricos.\n",
    "\n",
    "2. Dada una lista con elementos duplicados, escribir un programa que muestre una nueva lista con el mismo contenido que la primera pero sin elementos duplicados. Para este ejercicio, no puedes hacer uso de objetos de tipo 'Set'. \n",
    "\n",
    "3. Escribe un programa que construya un diccionario que contenga un número (entre 1 y *n*) de elementos de esta forma: (x, x*x). Ejemplo: para n = 5, el diccionario resultante sería {1: 1, 2: 4, 3: 9, 4: 16, 5: 25}\n",
    "\n",
    "4. Escribe un programa que, dada una lista de palabras, compruebe si alguna empieza por 'a' y tiene más de 9 caracteres. Si dicha palabra existe, el programa deberá terminar en el momento exacto de encontrarla. El programa también debe mostrar un mensaje apropiado por pantalla que indique el éxito o el fracaso de la búsqueda. En caso de éxito, también se mostrará por pantalla la palabra encontrada.\n",
    "\n",
    "5. Dada una lista *L* de números positivos, escribir un programa que muestre otra lista (ordenada) que contenga todo índice *i* que cumpla la siguiente condición: *L[i]* es múltiplo de 3. Por ejemplo, dada la lista *L* = [3,5,13,12,1,9] el programa mostrará la lista [0,3,5] dado que *L[0], L[3] y L[5]* son, respectivamente, 3, 12 y 9, que son los únicos múltiplos de 3 que hay en *L*.\n",
    "\n",
    "6. Dado un diccionario cuyos elementos son pares de tipo string y numérico (es decir, las claves son de tipo 'str' y los valores son de tipo 'int' o 'float'), escribe un programa que muestre por pantalla la clave cuyo valor asociado representa el valor númerico más alto de todo el diccionario. Por ejemplo, para el diccionario {'a': 4.3, 'b': 1, 'c': 7.8, 'd': -5} la respuesta sería 'c', dado que 7.8 es el valor más alto de los números 4.3, 1, 7.8 y -5.\n",
    "\n",
    "7. Dada la lista *a* = [2, 4, 6, 8] y la lista *b* = [7, 11, 15, 22], escribe un programa que itere las listas *a* y *b* y multiplique cada elemento de *a* que sea mayor que 5 por cada elemento de *b* que sea menor que 14. El programa debe mostrar los resultados por pantalla.\n",
    "\n",
    "8. Escribir un programa que pida un valor numérico X al usuario. Para ello podéis hacer uso de la función predefinida 'input'. El programa deberá mostrar por pantalla el resultado de la división 10/X. En caso de que el usuario introduzca valores no apropiados, el programa deberá gestionar correctamente las excepciones, por ejemplo, mostrando mensajes informativos por pantalla.\n",
    "\n",
    "9. Escribir un programa que cree un *diccionario* cualquiera. Posteriormente, el programa pedirá al usuario (a través de la función predefinida 'input') que introduzca una clave del diccionario. Si la clave introducida es correcta (es decir, existe en el diccionario), el programa mostrará por pantalla el valor asociado a dicha clave. En caso de que la clave no exista, el programa gestionará de manera apropiada el error, por ejemplo, mostrando un mensaje informativo al usuario.\n",
    "\n",
    "10. Escribe una *list comprehension* que construya una lista con los números *enteros* positivos de una lista de números dada. La lista original puede incluir números de tipo *float*, los cuales deben ser descartados.\n",
    "\n",
    "11. Escribe una *set comprehension* que, dada una palabra, construya un conjunto que contenga las vocales de dicha palabra.\n",
    "\n",
    "12. Escribe una *list comprehension* que construya una lista con todos los números del 0 al 50 que contengan el dígito 3. El resultado será: [3, 13, 23, 30, 31, 32, 33, 34, 35, 36, 37, 38, 39, 43].\n",
    "\n",
    "13. Escribe una *dictionary comprehension* que construya un diccionario que incluya los tamaños de cada palabra en una frase dada. Ejemplo: el resultado para la frase \"Soy un ser humano\" será {'Soy': 3, 'un': 2, 'ser': 3, 'humano': 6}\n",
    "\n",
    "14. Escribe una *list comprehension* que construya una lista que incluya todos los números del 1 al 10 en orden. La primera mitad se mostrarán en formato numérico; la segunda mitad en texto. Es decir, el resultado será: [1, 2, 3, 4, 5, 'seis', 'siete', 'ocho', 'nueve', 'diez']."
   ]
  },
  {
   "cell_type": "markdown",
   "id": "5cdc72df-54bc-426f-a241-03fa5fd6835d",
   "metadata": {},
   "source": [
    "#### EJERCICIO 01\n"
   ]
  },
  {
   "cell_type": "code",
   "execution_count": 2,
   "id": "3cb1546f-67d8-42f8-89b4-47b27aa35dee",
   "metadata": {},
   "outputs": [
    {
     "name": "stdout",
     "output_type": "stream",
     "text": [
      "La suma de los elementos es: 15\n"
     ]
    }
   ],
   "source": [
    "\n",
    "\n",
    "# Definimos una lista de números\n",
    "numeros = [1, 2, 3, 4, 5]\n",
    "\n",
    "# Inicializamos una variable para almacenar la suma\n",
    "suma = 0\n",
    "\n",
    "# Iteramos sobre cada elemento de la lista\n",
    "for numero in numeros:\n",
    "    # Sumamos cada número al acumulador\n",
    "    suma += numero\n",
    "\n",
    "# Imprimimos el resultado\n",
    "print(\"La suma de los elementos es:\", suma)"
   ]
  },
  {
   "cell_type": "markdown",
   "id": "793c8f93-6126-4187-931b-0d8d2eacabcd",
   "metadata": {},
   "source": [
    "#### EJERCICIO 02\n"
   ]
  },
  {
   "cell_type": "code",
   "execution_count": 2,
   "id": "28e5ef49-43aa-4fdf-953c-9c6bd4cbb01f",
   "metadata": {},
   "outputs": [
    {
     "name": "stdout",
     "output_type": "stream",
     "text": [
      "Lista sin duplicados: [1, 2, 3, 4, 5]\n"
     ]
    }
   ],
   "source": [
    "# Lista original con elementos duplicados\n",
    "lista_original = [1, 2, 2, 3, 4, 4, 5]\n",
    "\n",
    "# Creamos una lista vacía para almacenar elementos únicos\n",
    "lista_sin_duplicados = []\n",
    "\n",
    "# Iteramos sobre cada elemento de la lista original\n",
    "for elemento in lista_original:\n",
    "    # Verificamos si el elemento no está en la nueva lista\n",
    "    if elemento not in lista_sin_duplicados:\n",
    "        # Si no está, lo agregamos\n",
    "        lista_sin_duplicados.append(elemento)\n",
    "\n",
    "# Imprimimos la lista sin duplicados\n",
    "print(\"Lista sin duplicados:\", lista_sin_duplicados)"
   ]
  },
  {
   "cell_type": "markdown",
   "id": "d41b8b07-ec2c-4e67-9f23-7598dc46a210",
   "metadata": {},
   "source": [
    "#### EJERCICIO 03\n"
   ]
  },
  {
   "cell_type": "code",
   "execution_count": 3,
   "id": "d319feb2-b693-4b62-b398-c43aff182cdd",
   "metadata": {},
   "outputs": [
    {
     "name": "stdout",
     "output_type": "stream",
     "text": [
      "Diccionario resultante: {1: 1, 2: 4, 3: 9, 4: 16, 5: 25}\n"
     ]
    }
   ],
   "source": [
    "# Definimos el valor máximo para el diccionario\n",
    "n = 5\n",
    "\n",
    "# Creamos un diccionario vacío\n",
    "diccionario = {}\n",
    "\n",
    "# Iteramos desde 1 hasta n (incluido)\n",
    "for x in range(1, n + 1):\n",
    "    # Asignamos la clave x y el valor x*x\n",
    "    diccionario[x] = x * x\n",
    "\n",
    "# Imprimimos el diccionario resultante\n",
    "print(\"Diccionario resultante:\", diccionario)"
   ]
  },
  {
   "cell_type": "markdown",
   "id": "ecb0a406-73d1-4c36-a765-30b543b479c8",
   "metadata": {},
   "source": [
    "#### EJERCICIO 04\n"
   ]
  },
  {
   "cell_type": "code",
   "execution_count": 8,
   "id": "7cb90575-a7e0-4475-a6a0-e7a622bd1ecc",
   "metadata": {},
   "outputs": [
    {
     "name": "stdout",
     "output_type": "stream",
     "text": [
      "Ejercicio 4: aloh\n"
     ]
    }
   ],
   "source": [
    "# Lista de palabras para buscar\n",
    "palabras = [\"hola\", \"adios\", \"anaranjado\", \"amarillo\", \"computadora\"]\n",
    "\n",
    "# Bandera para indicar si se encontró la palabra\n",
    "encontrado = False\n",
    "\n",
    "# Iteramos sobre cada palabra en la lista\n",
    "for palabra in palabras:\n",
    "    # Verificamos si la palabra empieza con 'a' y tiene más de 9 caracteres\n",
    "    if palabra.startswith('a') and len(palabra) > 9:\n",
    "        # Si se cumple, imprimimos la palabra y marcamos como encontrado\n",
    "        print(\"Palabra encontrada:\", palabra)\n",
    "        encontrado = True\n",
    "        # Salimos del bucle\n",
    "        break\n",
    "\n",
    "# Si no se encontró ninguna palabra, mostramos un mensaje\n",
    "if not encontrado:\n",
    "    print(\"No se encontró ninguna palabra que cumpla los requisitos.\")"
   ]
  },
  {
   "cell_type": "markdown",
   "id": "d107f39c-0e23-4dd0-8740-491f76eda0bd",
   "metadata": {},
   "source": [
    "#### EJERCICIO 05\n"
   ]
  },
  {
   "cell_type": "code",
   "execution_count": 3,
   "id": "adbee067-808b-47f1-b34c-0da6adb32171",
   "metadata": {},
   "outputs": [
    {
     "name": "stdout",
     "output_type": "stream",
     "text": [
      "Índices de elementos múltiplos de 3: [0, 3, 5]\n"
     ]
    }
   ],
   "source": [
    "# Lista original de números\n",
    "L = [3, 5, 13, 12, 1, 9]\n",
    "\n",
    "# Creamos una lista vacía para almacenar los índices\n",
    "indices = []\n",
    "\n",
    "# Iteramos sobre los índices y valores de la lista\n",
    "for i in range(len(L)):\n",
    "    # Verificamos si el valor en el índice i es múltiplo de 3\n",
    "    if L[i] % 3 == 0:\n",
    "        # Si es así, agregamos el índice a la lista\n",
    "        indices.append(i)\n",
    "\n",
    "# Ordenamos la lista de índices\n",
    "indices.sort()\n",
    "\n",
    "# Imprimimos la lista de índices\n",
    "print(\"Índices de elementos múltiplos de 3:\", indices)"
   ]
  },
  {
   "cell_type": "markdown",
   "id": "83d7bbdb-0715-4454-983a-de27944f7ad0",
   "metadata": {},
   "source": [
    "#### EJERCICIO 06\n"
   ]
  },
  {
   "cell_type": "code",
   "execution_count": 4,
   "id": "1b73d612-3c81-4a9e-b3c7-1183e289c1a0",
   "metadata": {},
   "outputs": [
    {
     "name": "stdout",
     "output_type": "stream",
     "text": [
      "Clave con el valor más alto: c\n"
     ]
    }
   ],
   "source": [
    "# Diccionario de ejemplo\n",
    "diccionario = {'a': 4.3, 'b': 1, 'c': 7.8, 'd': -5}\n",
    "\n",
    "# Inicializamos variables para almacenar la clave y valor máximo\n",
    "clave_max = None\n",
    "valor_max = float('-inf')  # Inicializamos con el menor valor posible\n",
    "\n",
    "# Iteramos sobre cada par clave-valor en el diccionario\n",
    "for clave, valor in diccionario.items():\n",
    "    # Comparamos el valor actual con el valor máximo encontrado\n",
    "    if valor > valor_max:\n",
    "        # Si es mayor, actualizamos la clave y el valor máximo\n",
    "        clave_max = clave\n",
    "        valor_max = valor\n",
    "\n",
    "# Imprimimos la clave con el valor máximo\n",
    "print(\"Clave con el valor más alto:\", clave_max)"
   ]
  },
  {
   "cell_type": "markdown",
   "id": "f2981638-8bb3-4d9e-aaf1-b906a245cf15",
   "metadata": {},
   "source": [
    "#### EJERCICIO 07\n"
   ]
  },
  {
   "cell_type": "code",
   "execution_count": 5,
   "id": "a680e771-9eec-42ee-8805-d0c4e84104cd",
   "metadata": {},
   "outputs": [
    {
     "name": "stdout",
     "output_type": "stream",
     "text": [
      "6 * 7 = 42\n",
      "6 * 11 = 66\n",
      "8 * 7 = 56\n",
      "8 * 11 = 88\n"
     ]
    }
   ],
   "source": [
    "# Definimos las listas a y b\n",
    "a = [2, 4, 6, 8]\n",
    "b = [7, 11, 15, 22]\n",
    "\n",
    "# Iteramos sobre cada elemento de la lista a\n",
    "for num_a in a:\n",
    "    # Verificamos si el elemento es mayor que 5\n",
    "    if num_a > 5:\n",
    "        # Iteramos sobre cada elemento de la lista b\n",
    "        for num_b in b:\n",
    "            # Verificamos si el elemento es menor que 14\n",
    "            if num_b < 14:\n",
    "                # Multiplicamos y mostramos el resultado\n",
    "                print(f\"{num_a} * {num_b} = {num_a * num_b}\")"
   ]
  },
  {
   "cell_type": "markdown",
   "id": "35712e03-23df-49e5-9ad8-a230f7d1a391",
   "metadata": {},
   "source": [
    "#### EJERCICIO 08\n"
   ]
  },
  {
   "cell_type": "code",
   "execution_count": 6,
   "id": "338bedb7-bd08-4f1d-a614-11fbce6b2bfc",
   "metadata": {},
   "outputs": [
    {
     "name": "stdin",
     "output_type": "stream",
     "text": [
      "Por favor, ingrese un número para dividir 10:  10\n"
     ]
    },
    {
     "name": "stdout",
     "output_type": "stream",
     "text": [
      "El resultado de 10 / 10.0 es: 1.0\n"
     ]
    }
   ],
   "source": [
    "# Solicitamos al usuario que ingrese un valor numérico\n",
    "entrada = input(\"Por favor, ingrese un número para dividir 10: \")\n",
    "\n",
    "try:\n",
    "    # Intentamos convertir la entrada a float\n",
    "    X = float(entrada)\n",
    "    # Realizamos la división\n",
    "    resultado = 10 / X\n",
    "    # Mostramos el resultado\n",
    "    print(\"El resultado de 10 /\", X, \"es:\", resultado)\n",
    "except ValueError:\n",
    "    # Manejo de error si la entrada no es un número\n",
    "    print(\"Error: Debe ingresar un valor numérico.\")\n",
    "except ZeroDivisionError:\n",
    "    # Manejo de error si se intenta dividir por cero\n",
    "    print(\"Error: No se puede dividir por cero.\")"
   ]
  },
  {
   "cell_type": "markdown",
   "id": "ef34bcbb-cd00-49a0-abb0-3a7faee6984f",
   "metadata": {},
   "source": [
    "#### EJERCICIO 09\n"
   ]
  },
  {
   "cell_type": "code",
   "execution_count": 8,
   "id": "4f03c27a-996d-4e9b-90cf-c0b1d22fb4d7",
   "metadata": {},
   "outputs": [
    {
     "name": "stdin",
     "output_type": "stream",
     "text": [
      "Ingrese una clave para buscar en el diccionario:  Juan\n"
     ]
    },
    {
     "name": "stdout",
     "output_type": "stream",
     "text": [
      "Error: La clave 'Juan' no existe en el diccionario.\n"
     ]
    }
   ],
   "source": [
    "# Creamos un diccionario de ejemplo\n",
    "diccionario = {'nombre': 'Juan', 'edad': 30, 'ciudad': 'Madrid'}\n",
    "\n",
    "# Solicitamos al usuario que ingrese una clave\n",
    "clave = input(\"Ingrese una clave para buscar en el diccionario: \")\n",
    "\n",
    "try:\n",
    "    # Intentamos acceder al valor asociado a la clave\n",
    "    valor = diccionario[clave]\n",
    "    # Si existe, mostramos el valor\n",
    "    print(f\"El valor asociado a '{clave}' es: {valor}\")\n",
    "except KeyError:\n",
    "    # Manejo de error si la clave no existe\n",
    "    print(f\"Error: La clave '{clave}' no existe en el diccionario.\")"
   ]
  },
  {
   "cell_type": "markdown",
   "id": "98231113-c984-497e-8114-0360590b4319",
   "metadata": {},
   "source": [
    "#### EJERCICIO 10\n"
   ]
  },
  {
   "cell_type": "code",
   "execution_count": 9,
   "id": "4f4b4851-dd57-4d9d-a37c-1ad2d1940670",
   "metadata": {},
   "outputs": [
    {
     "name": "stdout",
     "output_type": "stream",
     "text": [
      "Lista de enteros positivos: [1, 3, 5]\n"
     ]
    }
   ],
   "source": [
    "# Lista original con números enteros y flotantes\n",
    "lista_original = [1, 2.5, 3, 4.7, 5, 6.2]\n",
    "\n",
    "# List comprehension para filtrar enteros positivos\n",
    "# Solo incluimos x si es instancia de int y es positivo\n",
    "lista_enteros = [x for x in lista_original if isinstance(x, int) and x > 0]\n",
    "\n",
    "# Imprimimos la lista resultante\n",
    "print(\"Lista de enteros positivos:\", lista_enteros)"
   ]
  },
  {
   "cell_type": "markdown",
   "id": "2659d9c6-1da9-4052-b251-5d4bd61958fc",
   "metadata": {},
   "source": [
    "#### EJERCICIO 11\n"
   ]
  },
  {
   "cell_type": "code",
   "execution_count": 10,
   "id": "c8343a98-81b5-4797-ad64-9c7280921088",
   "metadata": {},
   "outputs": [
    {
     "name": "stdout",
     "output_type": "stream",
     "text": [
      "Vocales en la palabra: {'i', 'o', 'a', 'u'}\n"
     ]
    }
   ],
   "source": [
    "# Palabra de ejemplo\n",
    "palabra = \"murciélago\"\n",
    "\n",
    "# Set comprehension para obtener vocales únicas\n",
    "# Convertimos a minúscula y filtramos caracteres que están en 'aeiou'\n",
    "vocales = {letra.lower() for letra in palabra if letra.lower() in 'aeiou'}\n",
    "\n",
    "# Imprimimos el conjunto resultante\n",
    "print(\"Vocales en la palabra:\", vocales)"
   ]
  },
  {
   "cell_type": "markdown",
   "id": "0fa4403f-cfa2-4c22-a6e1-85cd701a053a",
   "metadata": {},
   "source": [
    "#### EJERCICIO 12\n"
   ]
  },
  {
   "cell_type": "code",
   "execution_count": 12,
   "id": "d2722d09-185c-4ab0-9f53-95059bac565c",
   "metadata": {},
   "outputs": [
    {
     "name": "stdout",
     "output_type": "stream",
     "text": [
      "Números que contienen el dígito 3: [3, 13, 23, 30, 31, 32, 33, 34, 35, 36, 37, 38, 39, 43]\n"
     ]
    }
   ],
   "source": [
    "# List comprehension para números del 0 al 50 que contienen el dígito 3\n",
    "# Convertimos cada número a string y verificamos si '3' está en él\n",
    "numeros_con_3 = [num for num in range(51) if '3' in str(num)]\n",
    "\n",
    "# Imprimimos la lista resultante\n",
    "print(\"Números que contienen el dígito 3:\", numeros_con_3)"
   ]
  },
  {
   "cell_type": "markdown",
   "id": "9a969b7b-09e6-408c-a289-547ba8db1f91",
   "metadata": {},
   "source": [
    "#### EJERCICIO 13\n"
   ]
  },
  {
   "cell_type": "code",
   "execution_count": 11,
   "id": "f474b128-edc8-4e99-97f0-37f468e720b1",
   "metadata": {},
   "outputs": [
    {
     "name": "stdout",
     "output_type": "stream",
     "text": [
      "Longitudes de palabras: {'Soy': 3, 'un': 2, 'ser': 3, 'humano': 6}\n"
     ]
    }
   ],
   "source": [
    "# Frase de ejemplo\n",
    "frase = \"Soy un ser humano\"\n",
    "\n",
    "# Dictionary comprehension para crear diccionario con longitudes\n",
    "# Dividimos la frase en palabras y creamos pares (palabra, longitud)\n",
    "longitudes = {palabra: len(palabra) for palabra in frase.split()}\n",
    "\n",
    "# Imprimimos el diccionario resultante\n",
    "print(\"Longitudes de palabras:\", longitudes)"
   ]
  },
  {
   "cell_type": "markdown",
   "id": "35d8961e-61d9-4ed1-b8c8-2b6c3869fbe0",
   "metadata": {},
   "source": [
    "#### EJERCICIO 14\n"
   ]
  },
  {
   "cell_type": "code",
   "execution_count": 10,
   "id": "c343f255-2381-48e7-8a1d-09985cedc093",
   "metadata": {},
   "outputs": [
    {
     "name": "stdout",
     "output_type": "stream",
     "text": [
      "Lista combinada: [1, 2, 3, 4, 5, 'seis', 'siete', 'ocho', 'nueve', 'diez']\n"
     ]
    }
   ],
   "source": [
    "# Lista de números en texto para la segunda mitad\n",
    "numeros_texto = ['seis', 'siete', 'ocho', 'nueve', 'diez']\n",
    "\n",
    "# List comprehension que combina números y texto\n",
    "# Para índices 0-4 (1-5) usamos el número, para 5-9 usamos el texto\n",
    "lista_combinada = [i+1 if i < 5 else numeros_texto[i-5] for i in range(10)]\n",
    "\n",
    "# Imprimimos la lista resultante\n",
    "print(\"Lista combinada:\", lista_combinada)"
   ]
  },
  {
   "cell_type": "code",
   "execution_count": null,
   "id": "e0c6b34e-2dd1-4b96-a589-baf42a8774dd",
   "metadata": {},
   "outputs": [],
   "source": []
  }
 ],
 "metadata": {
  "kernelspec": {
   "display_name": "Python 3 (ipykernel)",
   "language": "python",
   "name": "python3"
  },
  "language_info": {
   "codemirror_mode": {
    "name": "ipython",
    "version": 3
   },
   "file_extension": ".py",
   "mimetype": "text/x-python",
   "name": "python",
   "nbconvert_exporter": "python",
   "pygments_lexer": "ipython3",
   "version": "3.13.5"
  }
 },
 "nbformat": 4,
 "nbformat_minor": 5
}
